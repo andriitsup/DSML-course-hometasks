{
  "nbformat": 4,
  "nbformat_minor": 0,
  "metadata": {
    "colab": {
      "provenance": []
    },
    "kernelspec": {
      "name": "python3",
      "display_name": "Python 3"
    },
    "language_info": {
      "name": "python"
    }
  },
  "cells": [
    {
      "cell_type": "markdown",
      "source": [
        "В цьому домашньому завданні ми знову працюємо з даними з нашого змагання [\"Bank Customer Churn Prediction (DLU Course)\"](https://www.kaggle.com/t/7c080c5d8ec64364a93cf4e8f880b6a0).\n",
        "\n",
        "Тут ми побудуємо рішення задачі класифікації з використанням kNearestNeighboors, знайдемо оптимальні гіперпараметри для цього методу і зробимо базові ансамблі. Це дасть змогу порівняти перформанс моделі з попередніми вивченими методами."
      ],
      "metadata": {
        "id": "fDefDHQt8LXC"
      }
    },
    {
      "cell_type": "code",
      "source": [
        "%load_ext autoreload\n",
        "%autoreload 2"
      ],
      "metadata": {
        "id": "eTv7kglQH4Ea"
      },
      "execution_count": 1,
      "outputs": []
    },
    {
      "cell_type": "code",
      "source": [
        "!pip install mlxtend"
      ],
      "metadata": {
        "collapsed": true,
        "colab": {
          "base_uri": "https://localhost:8080/"
        },
        "id": "vLZ2RKrmIBPk",
        "outputId": "b3484bbe-04dd-4745-9ad6-3c3861e5d126"
      },
      "execution_count": 2,
      "outputs": [
        {
          "output_type": "stream",
          "name": "stdout",
          "text": [
            "Requirement already satisfied: mlxtend in /usr/local/lib/python3.10/dist-packages (0.22.0)\n",
            "Requirement already satisfied: scipy>=1.2.1 in /usr/local/lib/python3.10/dist-packages (from mlxtend) (1.11.4)\n",
            "Requirement already satisfied: numpy>=1.16.2 in /usr/local/lib/python3.10/dist-packages (from mlxtend) (1.25.2)\n",
            "Requirement already satisfied: pandas>=0.24.2 in /usr/local/lib/python3.10/dist-packages (from mlxtend) (2.0.3)\n",
            "Requirement already satisfied: scikit-learn>=1.0.2 in /usr/local/lib/python3.10/dist-packages (from mlxtend) (1.2.2)\n",
            "Requirement already satisfied: matplotlib>=3.0.0 in /usr/local/lib/python3.10/dist-packages (from mlxtend) (3.7.1)\n",
            "Requirement already satisfied: joblib>=0.13.2 in /usr/local/lib/python3.10/dist-packages (from mlxtend) (1.4.2)\n",
            "Requirement already satisfied: setuptools in /usr/local/lib/python3.10/dist-packages (from mlxtend) (71.0.4)\n",
            "Requirement already satisfied: contourpy>=1.0.1 in /usr/local/lib/python3.10/dist-packages (from matplotlib>=3.0.0->mlxtend) (1.2.1)\n",
            "Requirement already satisfied: cycler>=0.10 in /usr/local/lib/python3.10/dist-packages (from matplotlib>=3.0.0->mlxtend) (0.12.1)\n",
            "Requirement already satisfied: fonttools>=4.22.0 in /usr/local/lib/python3.10/dist-packages (from matplotlib>=3.0.0->mlxtend) (4.53.1)\n",
            "Requirement already satisfied: kiwisolver>=1.0.1 in /usr/local/lib/python3.10/dist-packages (from matplotlib>=3.0.0->mlxtend) (1.4.5)\n",
            "Requirement already satisfied: packaging>=20.0 in /usr/local/lib/python3.10/dist-packages (from matplotlib>=3.0.0->mlxtend) (24.1)\n",
            "Requirement already satisfied: pillow>=6.2.0 in /usr/local/lib/python3.10/dist-packages (from matplotlib>=3.0.0->mlxtend) (9.4.0)\n",
            "Requirement already satisfied: pyparsing>=2.3.1 in /usr/local/lib/python3.10/dist-packages (from matplotlib>=3.0.0->mlxtend) (3.1.2)\n",
            "Requirement already satisfied: python-dateutil>=2.7 in /usr/local/lib/python3.10/dist-packages (from matplotlib>=3.0.0->mlxtend) (2.8.2)\n",
            "Requirement already satisfied: pytz>=2020.1 in /usr/local/lib/python3.10/dist-packages (from pandas>=0.24.2->mlxtend) (2023.4)\n",
            "Requirement already satisfied: tzdata>=2022.1 in /usr/local/lib/python3.10/dist-packages (from pandas>=0.24.2->mlxtend) (2024.1)\n",
            "Requirement already satisfied: threadpoolctl>=2.0.0 in /usr/local/lib/python3.10/dist-packages (from scikit-learn>=1.0.2->mlxtend) (3.5.0)\n",
            "Requirement already satisfied: six>=1.5 in /usr/local/lib/python3.10/dist-packages (from python-dateutil>=2.7->matplotlib>=3.0.0->mlxtend) (1.16.0)\n"
          ]
        }
      ]
    },
    {
      "cell_type": "code",
      "source": [
        "import numpy as np\n",
        "import pandas as pd\n",
        "import matplotlib.pyplot as plt\n",
        "\n",
        "from mlxtend.plotting import plot_decision_regions\n",
        "\n",
        "from sklearn.metrics import classification_report\n",
        "from sklearn.model_selection import GridSearchCV, train_test_split\n",
        "from sklearn.neighbors import KNeighborsClassifier"
      ],
      "metadata": {
        "id": "joM5LqHAIHqp"
      },
      "execution_count": 3,
      "outputs": []
    },
    {
      "cell_type": "markdown",
      "source": [
        "0. Зчитайте дані `train.csv` та зробіть препроцесинг використовуючи написаний Вами скрипт `process_bank_churn.py` так, аби в результаті отримати дані в розбитті X_train, train_targets, X_val, val_targets для експериментів.\n",
        "\n",
        "  Якщо Вам не вдалось реалізувати в завданні `2.3. Дерева прийняття рішень` скрипт `process_bank_churn.py` - можна скористатись готовим скриптом з запропонованого рішення того завдання."
      ],
      "metadata": {
        "id": "LhivzW9W8-Dz"
      }
    },
    {
      "cell_type": "code",
      "source": [
        "!git clone https://github.com/andrikoks/DSML-course-hometasks"
      ],
      "metadata": {
        "id": "Z-mntPMAH-rv",
        "colab": {
          "base_uri": "https://localhost:8080/"
        },
        "outputId": "cfd898e6-25ea-4d0b-d679-33994a251909"
      },
      "execution_count": 4,
      "outputs": [
        {
          "output_type": "stream",
          "name": "stdout",
          "text": [
            "Cloning into 'DSML-course-hometasks'...\n",
            "remote: Enumerating objects: 64, done.\u001b[K\n",
            "remote: Counting objects: 100% (64/64), done.\u001b[K\n",
            "remote: Compressing objects: 100% (64/64), done.\u001b[K\n",
            "remote: Total 64 (delta 28), reused 0 (delta 0), pack-reused 0\u001b[K\n",
            "Receiving objects: 100% (64/64), 7.34 MiB | 6.68 MiB/s, done.\n",
            "Resolving deltas: 100% (28/28), done.\n"
          ]
        }
      ]
    },
    {
      "cell_type": "code",
      "source": [
        "cd DSML-course-hometasks/"
      ],
      "metadata": {
        "colab": {
          "base_uri": "https://localhost:8080/"
        },
        "id": "85fya01iIPxD",
        "outputId": "9ad685a3-6a7c-4c8b-a877-6a6f6afc93b1"
      },
      "execution_count": 5,
      "outputs": [
        {
          "output_type": "stream",
          "name": "stdout",
          "text": [
            "/content/DSML-course-hometasks\n"
          ]
        }
      ]
    },
    {
      "cell_type": "code",
      "source": [
        "from process_bank_churn import preprocess_data"
      ],
      "metadata": {
        "id": "zjkwADFGJqNW"
      },
      "execution_count": 6,
      "outputs": []
    },
    {
      "cell_type": "code",
      "source": [
        "raw_df = pd.read_csv('train.csv')"
      ],
      "metadata": {
        "id": "BPwVKd6OY0av"
      },
      "execution_count": 7,
      "outputs": []
    },
    {
      "cell_type": "code",
      "source": [
        "data = preprocess_data(raw_df)"
      ],
      "metadata": {
        "id": "IxLWrpVCY50-"
      },
      "execution_count": 8,
      "outputs": []
    },
    {
      "cell_type": "code",
      "source": [
        "data"
      ],
      "metadata": {
        "id": "fLzXyhR4ZCwL",
        "outputId": "28eb6b34-bd28-4d4a-b5fc-91a9f83279e8",
        "colab": {
          "base_uri": "https://localhost:8080/"
        },
        "collapsed": true
      },
      "execution_count": 9,
      "outputs": [
        {
          "output_type": "execute_result",
          "data": {
            "text/plain": [
              "{'train_X':        CreditScore       Age  Tenure   Balance  NumOfProducts  HasCrCard  \\\n",
              " 7180      0.599045  0.214286     0.1  0.626382       0.000000        1.0   \n",
              " 10393     0.603819  0.375000     0.2  0.848836       0.000000        1.0   \n",
              " 80        0.653938  0.303571     0.6  0.554522       0.333333        1.0   \n",
              " 3365      0.568019  0.714286     0.0  0.000000       0.333333        0.0   \n",
              " 12236     0.658711  0.053571     0.3  0.000000       0.333333        1.0   \n",
              " ...            ...       ...     ...       ...            ...        ...   \n",
              " 9493      0.482100  0.267857     0.4  0.000000       0.333333        0.0   \n",
              " 8463      0.577566  0.392857     0.1  0.000000       0.000000        1.0   \n",
              " 8143      0.453461  0.196429     0.8  0.000000       0.333333        1.0   \n",
              " 11512     0.379475  0.428571     0.7  0.000000       0.333333        0.0   \n",
              " 9360      0.272076  0.160714     0.2  0.000000       0.333333        1.0   \n",
              " \n",
              "        IsActiveMember  EstimatedSalary  Geography_France  Geography_Germany  \\\n",
              " 7180              1.0         0.719772               1.0                0.0   \n",
              " 10393             0.0         0.727603               1.0                0.0   \n",
              " 80                0.0         0.872180               0.0                1.0   \n",
              " 3365              1.0         0.257797               0.0                0.0   \n",
              " 12236             1.0         0.742837               1.0                0.0   \n",
              " ...               ...              ...               ...                ...   \n",
              " 9493              0.0         0.617686               1.0                0.0   \n",
              " 8463              1.0         0.239129               1.0                0.0   \n",
              " 8143              1.0         0.667682               1.0                0.0   \n",
              " 11512             0.0         0.363197               0.0                0.0   \n",
              " 9360              0.0         0.511160               1.0                0.0   \n",
              " \n",
              "        Geography_Spain  Gender_Female  Gender_Male  \n",
              " 7180               0.0            0.0          1.0  \n",
              " 10393              0.0            1.0          0.0  \n",
              " 80                 0.0            0.0          1.0  \n",
              " 3365               1.0            0.0          1.0  \n",
              " 12236              0.0            0.0          1.0  \n",
              " ...                ...            ...          ...  \n",
              " 9493               0.0            1.0          0.0  \n",
              " 8463               0.0            1.0          0.0  \n",
              " 8143               0.0            0.0          1.0  \n",
              " 11512              1.0            0.0          1.0  \n",
              " 9360               0.0            1.0          0.0  \n",
              " \n",
              " [12000 rows x 13 columns],\n",
              " 'train_y': 7180     0.0\n",
              " 10393    0.0\n",
              " 80       0.0\n",
              " 3365     0.0\n",
              " 12236    0.0\n",
              "         ... \n",
              " 9493     0.0\n",
              " 8463     0.0\n",
              " 8143     0.0\n",
              " 11512    0.0\n",
              " 9360     0.0\n",
              " Name: Exited, Length: 12000, dtype: float64,\n",
              " 'val_X':        CreditScore       Age  Tenure   Balance  NumOfProducts  HasCrCard  \\\n",
              " 6490      0.675418  0.500000     0.1  0.551870       1.000000        1.0   \n",
              " 3646      0.386635  0.410714     0.5  0.000000       0.333333        1.0   \n",
              " 5306      0.715990  0.357143     0.2  0.000000       0.333333        0.0   \n",
              " 652       0.577566  0.446429     0.4  0.742441       0.000000        0.0   \n",
              " 2627      0.589499  0.214286     0.4  0.000000       0.333333        1.0   \n",
              " ...            ...       ...     ...       ...            ...        ...   \n",
              " 10550     0.589499  0.357143     0.4  0.000000       0.333333        1.0   \n",
              " 8866      0.768496  0.642857     0.6  0.000000       0.000000        1.0   \n",
              " 3244      0.589499  0.250000     0.5  0.000000       0.333333        1.0   \n",
              " 12441     0.699284  0.267857     0.5  0.658646       0.000000        1.0   \n",
              " 3024      0.603819  0.410714     0.5  0.618455       0.000000        1.0   \n",
              " \n",
              "        IsActiveMember  EstimatedSalary  Geography_France  Geography_Germany  \\\n",
              " 6490              1.0         0.364704               0.0                1.0   \n",
              " 3646              1.0         0.190942               1.0                0.0   \n",
              " 5306              1.0         0.584853               1.0                0.0   \n",
              " 652               1.0         0.558109               1.0                0.0   \n",
              " 2627              0.0         0.718420               0.0                0.0   \n",
              " ...               ...              ...               ...                ...   \n",
              " 10550             0.0         0.667682               1.0                0.0   \n",
              " 8866              0.0         0.885353               1.0                0.0   \n",
              " 3244              0.0         0.883589               0.0                0.0   \n",
              " 12441             0.0         0.528593               0.0                0.0   \n",
              " 3024              1.0         0.491455               1.0                0.0   \n",
              " \n",
              "        Geography_Spain  Gender_Female  Gender_Male  \n",
              " 6490               0.0            0.0          1.0  \n",
              " 3646               0.0            0.0          1.0  \n",
              " 5306               0.0            1.0          0.0  \n",
              " 652                0.0            1.0          0.0  \n",
              " 2627               1.0            1.0          0.0  \n",
              " ...                ...            ...          ...  \n",
              " 10550              0.0            0.0          1.0  \n",
              " 8866               0.0            0.0          1.0  \n",
              " 3244               1.0            0.0          1.0  \n",
              " 12441              1.0            0.0          1.0  \n",
              " 3024               0.0            0.0          1.0  \n",
              " \n",
              " [3000 rows x 13 columns],\n",
              " 'val_y': 6490     1.0\n",
              " 3646     0.0\n",
              " 5306     0.0\n",
              " 652      0.0\n",
              " 2627     0.0\n",
              "         ... \n",
              " 10550    0.0\n",
              " 8866     1.0\n",
              " 3244     0.0\n",
              " 12441    0.0\n",
              " 3024     0.0\n",
              " Name: Exited, Length: 3000, dtype: float64,\n",
              " 'scaler': MinMaxScaler(),\n",
              " 'encoder': OneHotEncoder(handle_unknown='ignore', sparse_output=False)}"
            ]
          },
          "metadata": {},
          "execution_count": 9
        }
      ]
    },
    {
      "cell_type": "code",
      "source": [
        "X_train = data['train_X']\n",
        "train_targets = data['train_y']\n",
        "X_val = data['val_X']\n",
        "val_targets = data['val_y']\n",
        "scaler = data['scaler']\n",
        "encoder = data['encoder']"
      ],
      "metadata": {
        "id": "5jrosCat6Skt"
      },
      "execution_count": 10,
      "outputs": []
    },
    {
      "cell_type": "markdown",
      "source": [
        "1. Навчіть на цих даних класифікатор kNN з параметрами за замовченням і виміряйте точність з допомогою AUROC на тренувальному та валідаційному наборах. Зробіть заключення про отриману модель: вона хороша/погана, чи є high bias/high variance?"
      ],
      "metadata": {
        "id": "_LxWkv4o-wMe"
      }
    },
    {
      "cell_type": "code",
      "source": [
        "knn = KNeighborsClassifier()\n",
        "\n",
        "knn.fit(X_train, train_targets)"
      ],
      "metadata": {
        "id": "1TH7H_Z9IAHD",
        "colab": {
          "base_uri": "https://localhost:8080/",
          "height": 75
        },
        "outputId": "e37f8be4-47c4-434d-b68a-98cf97e997b4"
      },
      "execution_count": 11,
      "outputs": [
        {
          "output_type": "execute_result",
          "data": {
            "text/plain": [
              "KNeighborsClassifier()"
            ],
            "text/html": [
              "<style>#sk-container-id-1 {color: black;background-color: white;}#sk-container-id-1 pre{padding: 0;}#sk-container-id-1 div.sk-toggleable {background-color: white;}#sk-container-id-1 label.sk-toggleable__label {cursor: pointer;display: block;width: 100%;margin-bottom: 0;padding: 0.3em;box-sizing: border-box;text-align: center;}#sk-container-id-1 label.sk-toggleable__label-arrow:before {content: \"▸\";float: left;margin-right: 0.25em;color: #696969;}#sk-container-id-1 label.sk-toggleable__label-arrow:hover:before {color: black;}#sk-container-id-1 div.sk-estimator:hover label.sk-toggleable__label-arrow:before {color: black;}#sk-container-id-1 div.sk-toggleable__content {max-height: 0;max-width: 0;overflow: hidden;text-align: left;background-color: #f0f8ff;}#sk-container-id-1 div.sk-toggleable__content pre {margin: 0.2em;color: black;border-radius: 0.25em;background-color: #f0f8ff;}#sk-container-id-1 input.sk-toggleable__control:checked~div.sk-toggleable__content {max-height: 200px;max-width: 100%;overflow: auto;}#sk-container-id-1 input.sk-toggleable__control:checked~label.sk-toggleable__label-arrow:before {content: \"▾\";}#sk-container-id-1 div.sk-estimator input.sk-toggleable__control:checked~label.sk-toggleable__label {background-color: #d4ebff;}#sk-container-id-1 div.sk-label input.sk-toggleable__control:checked~label.sk-toggleable__label {background-color: #d4ebff;}#sk-container-id-1 input.sk-hidden--visually {border: 0;clip: rect(1px 1px 1px 1px);clip: rect(1px, 1px, 1px, 1px);height: 1px;margin: -1px;overflow: hidden;padding: 0;position: absolute;width: 1px;}#sk-container-id-1 div.sk-estimator {font-family: monospace;background-color: #f0f8ff;border: 1px dotted black;border-radius: 0.25em;box-sizing: border-box;margin-bottom: 0.5em;}#sk-container-id-1 div.sk-estimator:hover {background-color: #d4ebff;}#sk-container-id-1 div.sk-parallel-item::after {content: \"\";width: 100%;border-bottom: 1px solid gray;flex-grow: 1;}#sk-container-id-1 div.sk-label:hover label.sk-toggleable__label {background-color: #d4ebff;}#sk-container-id-1 div.sk-serial::before {content: \"\";position: absolute;border-left: 1px solid gray;box-sizing: border-box;top: 0;bottom: 0;left: 50%;z-index: 0;}#sk-container-id-1 div.sk-serial {display: flex;flex-direction: column;align-items: center;background-color: white;padding-right: 0.2em;padding-left: 0.2em;position: relative;}#sk-container-id-1 div.sk-item {position: relative;z-index: 1;}#sk-container-id-1 div.sk-parallel {display: flex;align-items: stretch;justify-content: center;background-color: white;position: relative;}#sk-container-id-1 div.sk-item::before, #sk-container-id-1 div.sk-parallel-item::before {content: \"\";position: absolute;border-left: 1px solid gray;box-sizing: border-box;top: 0;bottom: 0;left: 50%;z-index: -1;}#sk-container-id-1 div.sk-parallel-item {display: flex;flex-direction: column;z-index: 1;position: relative;background-color: white;}#sk-container-id-1 div.sk-parallel-item:first-child::after {align-self: flex-end;width: 50%;}#sk-container-id-1 div.sk-parallel-item:last-child::after {align-self: flex-start;width: 50%;}#sk-container-id-1 div.sk-parallel-item:only-child::after {width: 0;}#sk-container-id-1 div.sk-dashed-wrapped {border: 1px dashed gray;margin: 0 0.4em 0.5em 0.4em;box-sizing: border-box;padding-bottom: 0.4em;background-color: white;}#sk-container-id-1 div.sk-label label {font-family: monospace;font-weight: bold;display: inline-block;line-height: 1.2em;}#sk-container-id-1 div.sk-label-container {text-align: center;}#sk-container-id-1 div.sk-container {/* jupyter's `normalize.less` sets `[hidden] { display: none; }` but bootstrap.min.css set `[hidden] { display: none !important; }` so we also need the `!important` here to be able to override the default hidden behavior on the sphinx rendered scikit-learn.org. See: https://github.com/scikit-learn/scikit-learn/issues/21755 */display: inline-block !important;position: relative;}#sk-container-id-1 div.sk-text-repr-fallback {display: none;}</style><div id=\"sk-container-id-1\" class=\"sk-top-container\"><div class=\"sk-text-repr-fallback\"><pre>KNeighborsClassifier()</pre><b>In a Jupyter environment, please rerun this cell to show the HTML representation or trust the notebook. <br />On GitHub, the HTML representation is unable to render, please try loading this page with nbviewer.org.</b></div><div class=\"sk-container\" hidden><div class=\"sk-item\"><div class=\"sk-estimator sk-toggleable\"><input class=\"sk-toggleable__control sk-hidden--visually\" id=\"sk-estimator-id-1\" type=\"checkbox\" checked><label for=\"sk-estimator-id-1\" class=\"sk-toggleable__label sk-toggleable__label-arrow\">KNeighborsClassifier</label><div class=\"sk-toggleable__content\"><pre>KNeighborsClassifier()</pre></div></div></div></div></div>"
            ]
          },
          "metadata": {},
          "execution_count": 11
        }
      ]
    },
    {
      "cell_type": "code",
      "source": [
        "from sklearn.metrics import roc_curve, auc\n",
        "\n",
        "def compute_auroc_and_build_roc(inputs, targets, model, name=''):\n",
        "  # Predict probabilities\n",
        "  y_pred_proba = model.predict_proba(inputs)[:, 1]\n",
        "\n",
        "  # Compute ROC curve\n",
        "  fpr, tpr, thresholds = roc_curve(targets, y_pred_proba, pos_label=1.0)\n",
        "\n",
        "    # Compute AUROC\n",
        "  roc_auc = auc(fpr, tpr)\n",
        "  print(f'AUROC for {name}: {roc_auc:.4f}')\n"
      ],
      "metadata": {
        "id": "Zo1HwTFqpmtl"
      },
      "execution_count": 20,
      "outputs": []
    },
    {
      "cell_type": "code",
      "source": [
        "compute_auroc_and_build_roc(X_train, train_targets, knn, 'Training')\n",
        "compute_auroc_and_build_roc(X_val, val_targets, knn, 'Val')"
      ],
      "metadata": {
        "colab": {
          "base_uri": "https://localhost:8080/"
        },
        "id": "CP8zPLLDp5oh",
        "outputId": "e732d83f-8659-4922-cd29-1b13cdce38eb"
      },
      "execution_count": 21,
      "outputs": [
        {
          "output_type": "stream",
          "name": "stdout",
          "text": [
            "AUROC for Training: 0.9559\n",
            "AUROC for Val: 0.8526\n"
          ]
        }
      ]
    },
    {
      "cell_type": "markdown",
      "source": [
        "Модель досить таки припасувалась до тренувальних даних, але на валідаційних AUROC кращий ніж на Decision Tree у першій спробі"
      ],
      "metadata": {
        "id": "VPdOvORJQKX0"
      }
    },
    {
      "cell_type": "markdown",
      "source": [
        "2. Використовуючи `GridSearchCV` знайдіть оптимальне значення параметра `n_neighbors` для класифікатора `kNN`. Псотавте крос валідацію на 5 фолдів.\n",
        "\n",
        "  Після успішного завершення пошуку оптимального гіперпараметра\n",
        "    - виведіть найкраще значення параметра\n",
        "    - збережіть в окрему змінну `knn_best` найкращу модель, знайдену з `GridSearchCV`\n",
        "    - оцініть якість передбачень  `knn_best` на тренувальній і валідаційній вибірці з допомогою AUROC.\n",
        "    - зробіть висновок про якість моделі. Чи стала вона краще порівняно з попереднім пукнтом (2) цього завдання? Чи є вона краще за дерево прийняття рішень з попереднього ДЗ?"
      ],
      "metadata": {
        "id": "U4hm5qYs_f7x"
      }
    },
    {
      "cell_type": "code",
      "source": [
        "?GridSearchCV"
      ],
      "metadata": {
        "id": "4Tofx4SnXyEZ"
      },
      "execution_count": 15,
      "outputs": []
    },
    {
      "cell_type": "code",
      "source": [
        "params_knn = {'n_neighbors': np.arange(1, 25)}\n",
        "knn_gs = GridSearchCV(knn, params_knn, cv=5)\n",
        "knn_gs.fit(X_train, train_targets)"
      ],
      "metadata": {
        "id": "a50AtDZ9IDNx",
        "colab": {
          "base_uri": "https://localhost:8080/",
          "height": 119
        },
        "outputId": "6cee8bd7-7fba-4934-ebe4-df895d4508bc"
      },
      "execution_count": 18,
      "outputs": [
        {
          "output_type": "execute_result",
          "data": {
            "text/plain": [
              "GridSearchCV(cv=5, estimator=KNeighborsClassifier(),\n",
              "             param_grid={'n_neighbors': array([ 1,  2,  3,  4,  5,  6,  7,  8,  9, 10, 11, 12, 13, 14, 15, 16, 17,\n",
              "       18, 19, 20, 21, 22, 23, 24])})"
            ],
            "text/html": [
              "<style>#sk-container-id-2 {color: black;background-color: white;}#sk-container-id-2 pre{padding: 0;}#sk-container-id-2 div.sk-toggleable {background-color: white;}#sk-container-id-2 label.sk-toggleable__label {cursor: pointer;display: block;width: 100%;margin-bottom: 0;padding: 0.3em;box-sizing: border-box;text-align: center;}#sk-container-id-2 label.sk-toggleable__label-arrow:before {content: \"▸\";float: left;margin-right: 0.25em;color: #696969;}#sk-container-id-2 label.sk-toggleable__label-arrow:hover:before {color: black;}#sk-container-id-2 div.sk-estimator:hover label.sk-toggleable__label-arrow:before {color: black;}#sk-container-id-2 div.sk-toggleable__content {max-height: 0;max-width: 0;overflow: hidden;text-align: left;background-color: #f0f8ff;}#sk-container-id-2 div.sk-toggleable__content pre {margin: 0.2em;color: black;border-radius: 0.25em;background-color: #f0f8ff;}#sk-container-id-2 input.sk-toggleable__control:checked~div.sk-toggleable__content {max-height: 200px;max-width: 100%;overflow: auto;}#sk-container-id-2 input.sk-toggleable__control:checked~label.sk-toggleable__label-arrow:before {content: \"▾\";}#sk-container-id-2 div.sk-estimator input.sk-toggleable__control:checked~label.sk-toggleable__label {background-color: #d4ebff;}#sk-container-id-2 div.sk-label input.sk-toggleable__control:checked~label.sk-toggleable__label {background-color: #d4ebff;}#sk-container-id-2 input.sk-hidden--visually {border: 0;clip: rect(1px 1px 1px 1px);clip: rect(1px, 1px, 1px, 1px);height: 1px;margin: -1px;overflow: hidden;padding: 0;position: absolute;width: 1px;}#sk-container-id-2 div.sk-estimator {font-family: monospace;background-color: #f0f8ff;border: 1px dotted black;border-radius: 0.25em;box-sizing: border-box;margin-bottom: 0.5em;}#sk-container-id-2 div.sk-estimator:hover {background-color: #d4ebff;}#sk-container-id-2 div.sk-parallel-item::after {content: \"\";width: 100%;border-bottom: 1px solid gray;flex-grow: 1;}#sk-container-id-2 div.sk-label:hover label.sk-toggleable__label {background-color: #d4ebff;}#sk-container-id-2 div.sk-serial::before {content: \"\";position: absolute;border-left: 1px solid gray;box-sizing: border-box;top: 0;bottom: 0;left: 50%;z-index: 0;}#sk-container-id-2 div.sk-serial {display: flex;flex-direction: column;align-items: center;background-color: white;padding-right: 0.2em;padding-left: 0.2em;position: relative;}#sk-container-id-2 div.sk-item {position: relative;z-index: 1;}#sk-container-id-2 div.sk-parallel {display: flex;align-items: stretch;justify-content: center;background-color: white;position: relative;}#sk-container-id-2 div.sk-item::before, #sk-container-id-2 div.sk-parallel-item::before {content: \"\";position: absolute;border-left: 1px solid gray;box-sizing: border-box;top: 0;bottom: 0;left: 50%;z-index: -1;}#sk-container-id-2 div.sk-parallel-item {display: flex;flex-direction: column;z-index: 1;position: relative;background-color: white;}#sk-container-id-2 div.sk-parallel-item:first-child::after {align-self: flex-end;width: 50%;}#sk-container-id-2 div.sk-parallel-item:last-child::after {align-self: flex-start;width: 50%;}#sk-container-id-2 div.sk-parallel-item:only-child::after {width: 0;}#sk-container-id-2 div.sk-dashed-wrapped {border: 1px dashed gray;margin: 0 0.4em 0.5em 0.4em;box-sizing: border-box;padding-bottom: 0.4em;background-color: white;}#sk-container-id-2 div.sk-label label {font-family: monospace;font-weight: bold;display: inline-block;line-height: 1.2em;}#sk-container-id-2 div.sk-label-container {text-align: center;}#sk-container-id-2 div.sk-container {/* jupyter's `normalize.less` sets `[hidden] { display: none; }` but bootstrap.min.css set `[hidden] { display: none !important; }` so we also need the `!important` here to be able to override the default hidden behavior on the sphinx rendered scikit-learn.org. See: https://github.com/scikit-learn/scikit-learn/issues/21755 */display: inline-block !important;position: relative;}#sk-container-id-2 div.sk-text-repr-fallback {display: none;}</style><div id=\"sk-container-id-2\" class=\"sk-top-container\"><div class=\"sk-text-repr-fallback\"><pre>GridSearchCV(cv=5, estimator=KNeighborsClassifier(),\n",
              "             param_grid={&#x27;n_neighbors&#x27;: array([ 1,  2,  3,  4,  5,  6,  7,  8,  9, 10, 11, 12, 13, 14, 15, 16, 17,\n",
              "       18, 19, 20, 21, 22, 23, 24])})</pre><b>In a Jupyter environment, please rerun this cell to show the HTML representation or trust the notebook. <br />On GitHub, the HTML representation is unable to render, please try loading this page with nbviewer.org.</b></div><div class=\"sk-container\" hidden><div class=\"sk-item sk-dashed-wrapped\"><div class=\"sk-label-container\"><div class=\"sk-label sk-toggleable\"><input class=\"sk-toggleable__control sk-hidden--visually\" id=\"sk-estimator-id-2\" type=\"checkbox\" ><label for=\"sk-estimator-id-2\" class=\"sk-toggleable__label sk-toggleable__label-arrow\">GridSearchCV</label><div class=\"sk-toggleable__content\"><pre>GridSearchCV(cv=5, estimator=KNeighborsClassifier(),\n",
              "             param_grid={&#x27;n_neighbors&#x27;: array([ 1,  2,  3,  4,  5,  6,  7,  8,  9, 10, 11, 12, 13, 14, 15, 16, 17,\n",
              "       18, 19, 20, 21, 22, 23, 24])})</pre></div></div></div><div class=\"sk-parallel\"><div class=\"sk-parallel-item\"><div class=\"sk-item\"><div class=\"sk-label-container\"><div class=\"sk-label sk-toggleable\"><input class=\"sk-toggleable__control sk-hidden--visually\" id=\"sk-estimator-id-3\" type=\"checkbox\" ><label for=\"sk-estimator-id-3\" class=\"sk-toggleable__label sk-toggleable__label-arrow\">estimator: KNeighborsClassifier</label><div class=\"sk-toggleable__content\"><pre>KNeighborsClassifier()</pre></div></div></div><div class=\"sk-serial\"><div class=\"sk-item\"><div class=\"sk-estimator sk-toggleable\"><input class=\"sk-toggleable__control sk-hidden--visually\" id=\"sk-estimator-id-4\" type=\"checkbox\" ><label for=\"sk-estimator-id-4\" class=\"sk-toggleable__label sk-toggleable__label-arrow\">KNeighborsClassifier</label><div class=\"sk-toggleable__content\"><pre>KNeighborsClassifier()</pre></div></div></div></div></div></div></div></div></div></div>"
            ]
          },
          "metadata": {},
          "execution_count": 18
        }
      ]
    },
    {
      "cell_type": "code",
      "source": [
        "knn_best = knn_gs.best_estimator_\n",
        "\n",
        "print(knn_gs.best_params_, knn_gs.best_score_)"
      ],
      "metadata": {
        "colab": {
          "base_uri": "https://localhost:8080/"
        },
        "id": "roTgum3RZRrs",
        "outputId": "4dbf502a-e8b0-4386-f922-ef372ae957fe"
      },
      "execution_count": 19,
      "outputs": [
        {
          "output_type": "stream",
          "name": "stdout",
          "text": [
            "{'n_neighbors': 9} 0.8671666666666666\n"
          ]
        }
      ]
    },
    {
      "cell_type": "code",
      "source": [
        "compute_auroc_and_build_roc(X_train, train_targets, knn_gs, 'Training')\n",
        "compute_auroc_and_build_roc(X_val, val_targets, knn_gs, 'Val')"
      ],
      "metadata": {
        "colab": {
          "base_uri": "https://localhost:8080/"
        },
        "outputId": "019db24b-67fa-412e-ca5a-98d6892e7aed",
        "id": "yAkaVyCEo-9a"
      },
      "execution_count": 22,
      "outputs": [
        {
          "output_type": "stream",
          "name": "stdout",
          "text": [
            "AUROC for Training: 0.9407\n",
            "AUROC for Val: 0.8809\n"
          ]
        }
      ]
    },
    {
      "cell_type": "code",
      "source": [
        "compute_auroc_and_build_roc(X_train, train_targets, knn_best, 'Training')\n",
        "compute_auroc_and_build_roc(X_val, val_targets, knn_best, 'Val')"
      ],
      "metadata": {
        "colab": {
          "base_uri": "https://localhost:8080/"
        },
        "outputId": "79637f93-e486-4840-b696-4c9cbf08f5af",
        "id": "nec2TlZUton4"
      },
      "execution_count": 30,
      "outputs": [
        {
          "output_type": "stream",
          "name": "stdout",
          "text": [
            "AUROC for Training: 0.9407\n",
            "AUROC for Val: 0.8809\n"
          ]
        }
      ]
    },
    {
      "cell_type": "markdown",
      "source": [
        "На валідаційному сеті покращився AUROC та все ще не такий, як був на найкращому дереві"
      ],
      "metadata": {
        "id": "rpbUIgyeqNy2"
      }
    },
    {
      "cell_type": "markdown",
      "source": [
        "3. Виконайте пошук оптимальних гіперпараметрів для `DecisionTreeClassifier` з `GridSearchCV` за сіткою параметрів\n",
        "  - `max_depth` від 1 до 20 з кроком 2\n",
        "  - `max_leaf_nodes` від 2 до 10 з кроком 1\n",
        "\n",
        "  Обовʼязково при цьому ініціюйте модель з фіксацією `random_seed`.\n",
        "\n",
        "  Поставте кросвалідацію на 3 фолди, `scoring='roc_auc'`, та виміряйте, скільки часу потребує пошук оптимальних гіперпараметрів.\n",
        "\n",
        "  Після успішного завершення пошуку оптимальних гіперпараметрів\n",
        "    - виведіть найкращі значення параметра\n",
        "    - збережіть в окрему змінну `dt_best` найкращу модель, знайдену з `GridSearchCV`\n",
        "    - оцініть якість передбачень  `dt_best` на тренувальній і валідаційній вибірці з допомогою AUROC.\n",
        "    - зробіть висновок про якість моделі. Чи ця модель краща за ту, що ви знайшли вручну?"
      ],
      "metadata": {
        "id": "Vg77SVWrBBmU"
      }
    },
    {
      "cell_type": "code",
      "source": [
        "from sklearn.tree import DecisionTreeClassifier\n",
        "from sklearn.metrics import accuracy_score, confusion_matrix"
      ],
      "metadata": {
        "id": "RVg6jX-7IEwl"
      },
      "execution_count": 24,
      "outputs": []
    },
    {
      "cell_type": "code",
      "source": [
        "%%time\n",
        "tree = DecisionTreeClassifier(random_state=42)\n",
        "params_tree = {'max_depth': np.arange(1, 22, 2), 'max_leaf_nodes': np.arange(2, 11, 1)}\n",
        "params_tree_gs = GridSearchCV(tree, params_tree, cv=3, scoring='roc_auc')\n",
        "params_tree_gs.fit(X_train, train_targets)"
      ],
      "metadata": {
        "colab": {
          "base_uri": "https://localhost:8080/",
          "height": 154
        },
        "id": "UvKe5iSTrVP-",
        "outputId": "791e5f3e-ff4e-4879-9cec-96545831a56e"
      },
      "execution_count": 26,
      "outputs": [
        {
          "output_type": "stream",
          "name": "stdout",
          "text": [
            "CPU times: user 6.14 s, sys: 411 µs, total: 6.14 s\n",
            "Wall time: 6.12 s\n"
          ]
        },
        {
          "output_type": "execute_result",
          "data": {
            "text/plain": [
              "GridSearchCV(cv=3, estimator=DecisionTreeClassifier(random_state=42),\n",
              "             param_grid={'max_depth': array([ 1,  3,  5,  7,  9, 11, 13, 15, 17, 19, 21]),\n",
              "                         'max_leaf_nodes': array([ 2,  3,  4,  5,  6,  7,  8,  9, 10])},\n",
              "             scoring='roc_auc')"
            ],
            "text/html": [
              "<style>#sk-container-id-3 {color: black;background-color: white;}#sk-container-id-3 pre{padding: 0;}#sk-container-id-3 div.sk-toggleable {background-color: white;}#sk-container-id-3 label.sk-toggleable__label {cursor: pointer;display: block;width: 100%;margin-bottom: 0;padding: 0.3em;box-sizing: border-box;text-align: center;}#sk-container-id-3 label.sk-toggleable__label-arrow:before {content: \"▸\";float: left;margin-right: 0.25em;color: #696969;}#sk-container-id-3 label.sk-toggleable__label-arrow:hover:before {color: black;}#sk-container-id-3 div.sk-estimator:hover label.sk-toggleable__label-arrow:before {color: black;}#sk-container-id-3 div.sk-toggleable__content {max-height: 0;max-width: 0;overflow: hidden;text-align: left;background-color: #f0f8ff;}#sk-container-id-3 div.sk-toggleable__content pre {margin: 0.2em;color: black;border-radius: 0.25em;background-color: #f0f8ff;}#sk-container-id-3 input.sk-toggleable__control:checked~div.sk-toggleable__content {max-height: 200px;max-width: 100%;overflow: auto;}#sk-container-id-3 input.sk-toggleable__control:checked~label.sk-toggleable__label-arrow:before {content: \"▾\";}#sk-container-id-3 div.sk-estimator input.sk-toggleable__control:checked~label.sk-toggleable__label {background-color: #d4ebff;}#sk-container-id-3 div.sk-label input.sk-toggleable__control:checked~label.sk-toggleable__label {background-color: #d4ebff;}#sk-container-id-3 input.sk-hidden--visually {border: 0;clip: rect(1px 1px 1px 1px);clip: rect(1px, 1px, 1px, 1px);height: 1px;margin: -1px;overflow: hidden;padding: 0;position: absolute;width: 1px;}#sk-container-id-3 div.sk-estimator {font-family: monospace;background-color: #f0f8ff;border: 1px dotted black;border-radius: 0.25em;box-sizing: border-box;margin-bottom: 0.5em;}#sk-container-id-3 div.sk-estimator:hover {background-color: #d4ebff;}#sk-container-id-3 div.sk-parallel-item::after {content: \"\";width: 100%;border-bottom: 1px solid gray;flex-grow: 1;}#sk-container-id-3 div.sk-label:hover label.sk-toggleable__label {background-color: #d4ebff;}#sk-container-id-3 div.sk-serial::before {content: \"\";position: absolute;border-left: 1px solid gray;box-sizing: border-box;top: 0;bottom: 0;left: 50%;z-index: 0;}#sk-container-id-3 div.sk-serial {display: flex;flex-direction: column;align-items: center;background-color: white;padding-right: 0.2em;padding-left: 0.2em;position: relative;}#sk-container-id-3 div.sk-item {position: relative;z-index: 1;}#sk-container-id-3 div.sk-parallel {display: flex;align-items: stretch;justify-content: center;background-color: white;position: relative;}#sk-container-id-3 div.sk-item::before, #sk-container-id-3 div.sk-parallel-item::before {content: \"\";position: absolute;border-left: 1px solid gray;box-sizing: border-box;top: 0;bottom: 0;left: 50%;z-index: -1;}#sk-container-id-3 div.sk-parallel-item {display: flex;flex-direction: column;z-index: 1;position: relative;background-color: white;}#sk-container-id-3 div.sk-parallel-item:first-child::after {align-self: flex-end;width: 50%;}#sk-container-id-3 div.sk-parallel-item:last-child::after {align-self: flex-start;width: 50%;}#sk-container-id-3 div.sk-parallel-item:only-child::after {width: 0;}#sk-container-id-3 div.sk-dashed-wrapped {border: 1px dashed gray;margin: 0 0.4em 0.5em 0.4em;box-sizing: border-box;padding-bottom: 0.4em;background-color: white;}#sk-container-id-3 div.sk-label label {font-family: monospace;font-weight: bold;display: inline-block;line-height: 1.2em;}#sk-container-id-3 div.sk-label-container {text-align: center;}#sk-container-id-3 div.sk-container {/* jupyter's `normalize.less` sets `[hidden] { display: none; }` but bootstrap.min.css set `[hidden] { display: none !important; }` so we also need the `!important` here to be able to override the default hidden behavior on the sphinx rendered scikit-learn.org. See: https://github.com/scikit-learn/scikit-learn/issues/21755 */display: inline-block !important;position: relative;}#sk-container-id-3 div.sk-text-repr-fallback {display: none;}</style><div id=\"sk-container-id-3\" class=\"sk-top-container\"><div class=\"sk-text-repr-fallback\"><pre>GridSearchCV(cv=3, estimator=DecisionTreeClassifier(random_state=42),\n",
              "             param_grid={&#x27;max_depth&#x27;: array([ 1,  3,  5,  7,  9, 11, 13, 15, 17, 19, 21]),\n",
              "                         &#x27;max_leaf_nodes&#x27;: array([ 2,  3,  4,  5,  6,  7,  8,  9, 10])},\n",
              "             scoring=&#x27;roc_auc&#x27;)</pre><b>In a Jupyter environment, please rerun this cell to show the HTML representation or trust the notebook. <br />On GitHub, the HTML representation is unable to render, please try loading this page with nbviewer.org.</b></div><div class=\"sk-container\" hidden><div class=\"sk-item sk-dashed-wrapped\"><div class=\"sk-label-container\"><div class=\"sk-label sk-toggleable\"><input class=\"sk-toggleable__control sk-hidden--visually\" id=\"sk-estimator-id-5\" type=\"checkbox\" ><label for=\"sk-estimator-id-5\" class=\"sk-toggleable__label sk-toggleable__label-arrow\">GridSearchCV</label><div class=\"sk-toggleable__content\"><pre>GridSearchCV(cv=3, estimator=DecisionTreeClassifier(random_state=42),\n",
              "             param_grid={&#x27;max_depth&#x27;: array([ 1,  3,  5,  7,  9, 11, 13, 15, 17, 19, 21]),\n",
              "                         &#x27;max_leaf_nodes&#x27;: array([ 2,  3,  4,  5,  6,  7,  8,  9, 10])},\n",
              "             scoring=&#x27;roc_auc&#x27;)</pre></div></div></div><div class=\"sk-parallel\"><div class=\"sk-parallel-item\"><div class=\"sk-item\"><div class=\"sk-label-container\"><div class=\"sk-label sk-toggleable\"><input class=\"sk-toggleable__control sk-hidden--visually\" id=\"sk-estimator-id-6\" type=\"checkbox\" ><label for=\"sk-estimator-id-6\" class=\"sk-toggleable__label sk-toggleable__label-arrow\">estimator: DecisionTreeClassifier</label><div class=\"sk-toggleable__content\"><pre>DecisionTreeClassifier(random_state=42)</pre></div></div></div><div class=\"sk-serial\"><div class=\"sk-item\"><div class=\"sk-estimator sk-toggleable\"><input class=\"sk-toggleable__control sk-hidden--visually\" id=\"sk-estimator-id-7\" type=\"checkbox\" ><label for=\"sk-estimator-id-7\" class=\"sk-toggleable__label sk-toggleable__label-arrow\">DecisionTreeClassifier</label><div class=\"sk-toggleable__content\"><pre>DecisionTreeClassifier(random_state=42)</pre></div></div></div></div></div></div></div></div></div></div>"
            ]
          },
          "metadata": {},
          "execution_count": 26
        }
      ]
    },
    {
      "cell_type": "code",
      "source": [
        "tree_best = params_tree_gs.best_estimator_\n",
        "print(params_tree_gs.best_params_, params_tree_gs.best_score_)"
      ],
      "metadata": {
        "colab": {
          "base_uri": "https://localhost:8080/"
        },
        "id": "qjK4CH9qsmcO",
        "outputId": "a7b31c01-add1-47e4-d271-d2b5b5972afb"
      },
      "execution_count": 27,
      "outputs": [
        {
          "output_type": "stream",
          "name": "stdout",
          "text": [
            "{'max_depth': 5, 'max_leaf_nodes': 10} 0.9013929183420709\n"
          ]
        }
      ]
    },
    {
      "cell_type": "code",
      "source": [
        "compute_auroc_and_build_roc(X_train, train_targets, tree_best, 'Training')\n",
        "compute_auroc_and_build_roc(X_val, val_targets, tree_best, 'Val')"
      ],
      "metadata": {
        "colab": {
          "base_uri": "https://localhost:8080/"
        },
        "id": "Ihhsic-Os1Un",
        "outputId": "5cf6e498-46bc-45bb-96db-506e4eeb2446"
      },
      "execution_count": 29,
      "outputs": [
        {
          "output_type": "stream",
          "name": "stdout",
          "text": [
            "AUROC for Training: 0.9015\n",
            "AUROC for Val: 0.9002\n"
          ]
        }
      ]
    },
    {
      "cell_type": "markdown",
      "source": [
        "4. Виконайте пошук оптимальних гіперпараметрів для `DecisionTreeClassifier` з `RandomizedSearchCV` за заданою сіткою параметрів і кількість ітерацій 40.\n",
        "\n",
        "  Поставте кросвалідацію на 3 фолди, `scoring='roc_auc'`, зафіксуйте `random_seed` процедури крос валідації та виміряйте, скільки часу потребує пошук оптимальних гіперпараметрів.\n",
        "\n",
        "  Після успішного завершення пошуку оптимальних гіперпараметрів\n",
        "    - виведіть найкращі значення параметра\n",
        "    - збережіть в окрему змінну `dt_random_search_best` найкращу модель, знайдену з `RandomizedSearchCV`\n",
        "    - оцініть якість передбачень  `dt_random_search_best` на тренувальній і валідаційній вибірці з допомогою AUROC.\n",
        "    - зробіть висновок про якість моделі. Чи ця модель краща за ту, що ви знайшли з `GridSearch`?\n",
        "    - проаналізуйте параметри `dt_random_search_best` і порівняйте з параметрами `dt_best` - яку бачите відмінність? Ця вправа потрібна аби зрозуміти, як різні налаштування `DecisionTreeClassifier` впливають на якість моделі."
      ],
      "metadata": {
        "id": "nCnkGD_sEW1i"
      }
    },
    {
      "cell_type": "code",
      "source": [
        "from sklearn.model_selection import train_test_split, RandomizedSearchCV"
      ],
      "metadata": {
        "id": "63jSgWJ0um7c"
      },
      "execution_count": 31,
      "outputs": []
    },
    {
      "cell_type": "code",
      "source": [
        "params_dt = {\n",
        "    'criterion': ['gini', 'entropy'],\n",
        "    'splitter': ['best', 'random'],\n",
        "    'max_depth': np.arange(1, 20),\n",
        "    'max_leaf_nodes': np.arange(2, 20),\n",
        "    'min_samples_split': [2, 5, 10, 20],\n",
        "    'min_samples_leaf': [1, 2, 4, 8],\n",
        "    'max_features': [None, 'sqrt', 'log2']\n",
        "}"
      ],
      "metadata": {
        "id": "665uQ3NdIG0s"
      },
      "execution_count": 33,
      "outputs": []
    },
    {
      "cell_type": "code",
      "source": [
        "tree = DecisionTreeClassifier()"
      ],
      "metadata": {
        "id": "ba7WvEJxyBw7"
      },
      "execution_count": 35,
      "outputs": []
    },
    {
      "cell_type": "code",
      "source": [
        "params_tree_rs = RandomizedSearchCV(tree, params_dt, cv=3, scoring='roc_auc', random_state=42)\n",
        "params_tree_rs.fit(X_train, train_targets)"
      ],
      "metadata": {
        "id": "MyHVD-R0IXqv",
        "colab": {
          "base_uri": "https://localhost:8080/",
          "height": 119
        },
        "outputId": "63544187-1e30-4db9-c6b3-913ee81a12c8"
      },
      "execution_count": 36,
      "outputs": [
        {
          "output_type": "execute_result",
          "data": {
            "text/plain": [
              "RandomizedSearchCV(cv=3, estimator=DecisionTreeClassifier(),\n",
              "                   param_distributions={'criterion': ['gini', 'entropy'],\n",
              "                                        'max_depth': array([ 1,  2,  3,  4,  5,  6,  7,  8,  9, 10, 11, 12, 13, 14, 15, 16, 17,\n",
              "       18, 19]),\n",
              "                                        'max_features': [None, 'sqrt', 'log2'],\n",
              "                                        'max_leaf_nodes': array([ 2,  3,  4,  5,  6,  7,  8,  9, 10, 11, 12, 13, 14, 15, 16, 17, 18,\n",
              "       19]),\n",
              "                                        'min_samples_leaf': [1, 2, 4, 8],\n",
              "                                        'min_samples_split': [2, 5, 10, 20],\n",
              "                                        'splitter': ['best', 'random']},\n",
              "                   random_state=42, scoring='roc_auc')"
            ],
            "text/html": [
              "<style>#sk-container-id-5 {color: black;background-color: white;}#sk-container-id-5 pre{padding: 0;}#sk-container-id-5 div.sk-toggleable {background-color: white;}#sk-container-id-5 label.sk-toggleable__label {cursor: pointer;display: block;width: 100%;margin-bottom: 0;padding: 0.3em;box-sizing: border-box;text-align: center;}#sk-container-id-5 label.sk-toggleable__label-arrow:before {content: \"▸\";float: left;margin-right: 0.25em;color: #696969;}#sk-container-id-5 label.sk-toggleable__label-arrow:hover:before {color: black;}#sk-container-id-5 div.sk-estimator:hover label.sk-toggleable__label-arrow:before {color: black;}#sk-container-id-5 div.sk-toggleable__content {max-height: 0;max-width: 0;overflow: hidden;text-align: left;background-color: #f0f8ff;}#sk-container-id-5 div.sk-toggleable__content pre {margin: 0.2em;color: black;border-radius: 0.25em;background-color: #f0f8ff;}#sk-container-id-5 input.sk-toggleable__control:checked~div.sk-toggleable__content {max-height: 200px;max-width: 100%;overflow: auto;}#sk-container-id-5 input.sk-toggleable__control:checked~label.sk-toggleable__label-arrow:before {content: \"▾\";}#sk-container-id-5 div.sk-estimator input.sk-toggleable__control:checked~label.sk-toggleable__label {background-color: #d4ebff;}#sk-container-id-5 div.sk-label input.sk-toggleable__control:checked~label.sk-toggleable__label {background-color: #d4ebff;}#sk-container-id-5 input.sk-hidden--visually {border: 0;clip: rect(1px 1px 1px 1px);clip: rect(1px, 1px, 1px, 1px);height: 1px;margin: -1px;overflow: hidden;padding: 0;position: absolute;width: 1px;}#sk-container-id-5 div.sk-estimator {font-family: monospace;background-color: #f0f8ff;border: 1px dotted black;border-radius: 0.25em;box-sizing: border-box;margin-bottom: 0.5em;}#sk-container-id-5 div.sk-estimator:hover {background-color: #d4ebff;}#sk-container-id-5 div.sk-parallel-item::after {content: \"\";width: 100%;border-bottom: 1px solid gray;flex-grow: 1;}#sk-container-id-5 div.sk-label:hover label.sk-toggleable__label {background-color: #d4ebff;}#sk-container-id-5 div.sk-serial::before {content: \"\";position: absolute;border-left: 1px solid gray;box-sizing: border-box;top: 0;bottom: 0;left: 50%;z-index: 0;}#sk-container-id-5 div.sk-serial {display: flex;flex-direction: column;align-items: center;background-color: white;padding-right: 0.2em;padding-left: 0.2em;position: relative;}#sk-container-id-5 div.sk-item {position: relative;z-index: 1;}#sk-container-id-5 div.sk-parallel {display: flex;align-items: stretch;justify-content: center;background-color: white;position: relative;}#sk-container-id-5 div.sk-item::before, #sk-container-id-5 div.sk-parallel-item::before {content: \"\";position: absolute;border-left: 1px solid gray;box-sizing: border-box;top: 0;bottom: 0;left: 50%;z-index: -1;}#sk-container-id-5 div.sk-parallel-item {display: flex;flex-direction: column;z-index: 1;position: relative;background-color: white;}#sk-container-id-5 div.sk-parallel-item:first-child::after {align-self: flex-end;width: 50%;}#sk-container-id-5 div.sk-parallel-item:last-child::after {align-self: flex-start;width: 50%;}#sk-container-id-5 div.sk-parallel-item:only-child::after {width: 0;}#sk-container-id-5 div.sk-dashed-wrapped {border: 1px dashed gray;margin: 0 0.4em 0.5em 0.4em;box-sizing: border-box;padding-bottom: 0.4em;background-color: white;}#sk-container-id-5 div.sk-label label {font-family: monospace;font-weight: bold;display: inline-block;line-height: 1.2em;}#sk-container-id-5 div.sk-label-container {text-align: center;}#sk-container-id-5 div.sk-container {/* jupyter's `normalize.less` sets `[hidden] { display: none; }` but bootstrap.min.css set `[hidden] { display: none !important; }` so we also need the `!important` here to be able to override the default hidden behavior on the sphinx rendered scikit-learn.org. See: https://github.com/scikit-learn/scikit-learn/issues/21755 */display: inline-block !important;position: relative;}#sk-container-id-5 div.sk-text-repr-fallback {display: none;}</style><div id=\"sk-container-id-5\" class=\"sk-top-container\"><div class=\"sk-text-repr-fallback\"><pre>RandomizedSearchCV(cv=3, estimator=DecisionTreeClassifier(),\n",
              "                   param_distributions={&#x27;criterion&#x27;: [&#x27;gini&#x27;, &#x27;entropy&#x27;],\n",
              "                                        &#x27;max_depth&#x27;: array([ 1,  2,  3,  4,  5,  6,  7,  8,  9, 10, 11, 12, 13, 14, 15, 16, 17,\n",
              "       18, 19]),\n",
              "                                        &#x27;max_features&#x27;: [None, &#x27;sqrt&#x27;, &#x27;log2&#x27;],\n",
              "                                        &#x27;max_leaf_nodes&#x27;: array([ 2,  3,  4,  5,  6,  7,  8,  9, 10, 11, 12, 13, 14, 15, 16, 17, 18,\n",
              "       19]),\n",
              "                                        &#x27;min_samples_leaf&#x27;: [1, 2, 4, 8],\n",
              "                                        &#x27;min_samples_split&#x27;: [2, 5, 10, 20],\n",
              "                                        &#x27;splitter&#x27;: [&#x27;best&#x27;, &#x27;random&#x27;]},\n",
              "                   random_state=42, scoring=&#x27;roc_auc&#x27;)</pre><b>In a Jupyter environment, please rerun this cell to show the HTML representation or trust the notebook. <br />On GitHub, the HTML representation is unable to render, please try loading this page with nbviewer.org.</b></div><div class=\"sk-container\" hidden><div class=\"sk-item sk-dashed-wrapped\"><div class=\"sk-label-container\"><div class=\"sk-label sk-toggleable\"><input class=\"sk-toggleable__control sk-hidden--visually\" id=\"sk-estimator-id-11\" type=\"checkbox\" ><label for=\"sk-estimator-id-11\" class=\"sk-toggleable__label sk-toggleable__label-arrow\">RandomizedSearchCV</label><div class=\"sk-toggleable__content\"><pre>RandomizedSearchCV(cv=3, estimator=DecisionTreeClassifier(),\n",
              "                   param_distributions={&#x27;criterion&#x27;: [&#x27;gini&#x27;, &#x27;entropy&#x27;],\n",
              "                                        &#x27;max_depth&#x27;: array([ 1,  2,  3,  4,  5,  6,  7,  8,  9, 10, 11, 12, 13, 14, 15, 16, 17,\n",
              "       18, 19]),\n",
              "                                        &#x27;max_features&#x27;: [None, &#x27;sqrt&#x27;, &#x27;log2&#x27;],\n",
              "                                        &#x27;max_leaf_nodes&#x27;: array([ 2,  3,  4,  5,  6,  7,  8,  9, 10, 11, 12, 13, 14, 15, 16, 17, 18,\n",
              "       19]),\n",
              "                                        &#x27;min_samples_leaf&#x27;: [1, 2, 4, 8],\n",
              "                                        &#x27;min_samples_split&#x27;: [2, 5, 10, 20],\n",
              "                                        &#x27;splitter&#x27;: [&#x27;best&#x27;, &#x27;random&#x27;]},\n",
              "                   random_state=42, scoring=&#x27;roc_auc&#x27;)</pre></div></div></div><div class=\"sk-parallel\"><div class=\"sk-parallel-item\"><div class=\"sk-item\"><div class=\"sk-label-container\"><div class=\"sk-label sk-toggleable\"><input class=\"sk-toggleable__control sk-hidden--visually\" id=\"sk-estimator-id-12\" type=\"checkbox\" ><label for=\"sk-estimator-id-12\" class=\"sk-toggleable__label sk-toggleable__label-arrow\">estimator: DecisionTreeClassifier</label><div class=\"sk-toggleable__content\"><pre>DecisionTreeClassifier()</pre></div></div></div><div class=\"sk-serial\"><div class=\"sk-item\"><div class=\"sk-estimator sk-toggleable\"><input class=\"sk-toggleable__control sk-hidden--visually\" id=\"sk-estimator-id-13\" type=\"checkbox\" ><label for=\"sk-estimator-id-13\" class=\"sk-toggleable__label sk-toggleable__label-arrow\">DecisionTreeClassifier</label><div class=\"sk-toggleable__content\"><pre>DecisionTreeClassifier()</pre></div></div></div></div></div></div></div></div></div></div>"
            ]
          },
          "metadata": {},
          "execution_count": 36
        }
      ]
    },
    {
      "cell_type": "code",
      "source": [
        "dt_random_search_best = params_tree_rs.best_estimator_\n",
        "print(params_tree_rs.best_params_, params_tree_rs.best_score_)"
      ],
      "metadata": {
        "colab": {
          "base_uri": "https://localhost:8080/"
        },
        "id": "LjC4CfWByLct",
        "outputId": "4877ca90-8dcd-4257-a0b1-c3740dfb0807"
      },
      "execution_count": 37,
      "outputs": [
        {
          "output_type": "stream",
          "name": "stdout",
          "text": [
            "{'splitter': 'random', 'min_samples_split': 20, 'min_samples_leaf': 4, 'max_leaf_nodes': 16, 'max_features': None, 'max_depth': 10, 'criterion': 'gini'} 0.8948742656369776\n"
          ]
        }
      ]
    },
    {
      "cell_type": "code",
      "source": [
        "compute_auroc_and_build_roc(X_train, train_targets, dt_random_search_best, 'Training')\n",
        "compute_auroc_and_build_roc(X_val, val_targets, dt_random_search_best, 'Val')"
      ],
      "metadata": {
        "colab": {
          "base_uri": "https://localhost:8080/"
        },
        "id": "szlojbiGyc0H",
        "outputId": "db76f4e3-9f01-4d5c-afd8-28e7ce70bd35"
      },
      "execution_count": 38,
      "outputs": [
        {
          "output_type": "stream",
          "name": "stdout",
          "text": [
            "AUROC for Training: 0.8893\n",
            "AUROC for Val: 0.8820\n"
          ]
        }
      ]
    },
    {
      "cell_type": "markdown",
      "source": [
        "5. Якщо у Вас вийшла метрика `AUROC` в цій серії експериментів - зробіть ще один `submission` на Kaggle і додайте код для цього і скріншот скора на публічному лідерборді нижче.\n",
        "\n",
        "  Сподіваюсь на цьому етапі ви вже відчули себе справжнім дослідником 😉"
      ],
      "metadata": {
        "id": "XArADR2CG8VK"
      }
    },
    {
      "cell_type": "code",
      "source": [
        "new_data = pd.read_csv('test.csv', index_col=0)"
      ],
      "metadata": {
        "id": "nnY1kR2zO7Ka"
      },
      "execution_count": 39,
      "outputs": []
    },
    {
      "cell_type": "code",
      "source": [
        "from process_bank_churn import preprocess_new_data"
      ],
      "metadata": {
        "id": "-Lr9h0pYPCPo"
      },
      "execution_count": 40,
      "outputs": []
    },
    {
      "cell_type": "code",
      "source": [
        "test = preprocess_new_data(new_data, scaler, encoder)"
      ],
      "metadata": {
        "id": "uWMJMxbbQZAA"
      },
      "execution_count": 41,
      "outputs": []
    },
    {
      "cell_type": "code",
      "source": [
        "probability = dt_random_search_best.predict_proba(test)[:,1]\n",
        "probability"
      ],
      "metadata": {
        "colab": {
          "base_uri": "https://localhost:8080/"
        },
        "id": "vRqrQMwM7f8E",
        "outputId": "7c865fbe-bcef-49b8-d05e-fb7fdc71f306"
      },
      "execution_count": 42,
      "outputs": [
        {
          "output_type": "execute_result",
          "data": {
            "text/plain": [
              "array([0.20498301, 0.01505792, 0.04584222, ..., 0.03426676, 0.13103953,\n",
              "       0.03426676])"
            ]
          },
          "metadata": {},
          "execution_count": 42
        }
      ]
    },
    {
      "cell_type": "code",
      "source": [
        "test['Exited'] = probability"
      ],
      "metadata": {
        "id": "7azTdQ7676k7"
      },
      "execution_count": 43,
      "outputs": []
    },
    {
      "cell_type": "code",
      "source": [
        "submission = pd.read_csv('sample_submission.csv')\n",
        "\n",
        "submission[:5]"
      ],
      "metadata": {
        "colab": {
          "base_uri": "https://localhost:8080/",
          "height": 206
        },
        "id": "8DEHlNGE79E_",
        "outputId": "fba0fcb6-d8ed-4ba8-c83a-da5338a635fb"
      },
      "execution_count": 45,
      "outputs": [
        {
          "output_type": "execute_result",
          "data": {
            "text/plain": [
              "      id  Exited\n",
              "0  15000     0.5\n",
              "1  15001     0.5\n",
              "2  15002     0.5\n",
              "3  15003     0.5\n",
              "4  15004     0.5"
            ],
            "text/html": [
              "\n",
              "  <div id=\"df-b3d86e09-5d28-4326-8e06-3baa3b0f03a0\" class=\"colab-df-container\">\n",
              "    <div>\n",
              "<style scoped>\n",
              "    .dataframe tbody tr th:only-of-type {\n",
              "        vertical-align: middle;\n",
              "    }\n",
              "\n",
              "    .dataframe tbody tr th {\n",
              "        vertical-align: top;\n",
              "    }\n",
              "\n",
              "    .dataframe thead th {\n",
              "        text-align: right;\n",
              "    }\n",
              "</style>\n",
              "<table border=\"1\" class=\"dataframe\">\n",
              "  <thead>\n",
              "    <tr style=\"text-align: right;\">\n",
              "      <th></th>\n",
              "      <th>id</th>\n",
              "      <th>Exited</th>\n",
              "    </tr>\n",
              "  </thead>\n",
              "  <tbody>\n",
              "    <tr>\n",
              "      <th>0</th>\n",
              "      <td>15000</td>\n",
              "      <td>0.5</td>\n",
              "    </tr>\n",
              "    <tr>\n",
              "      <th>1</th>\n",
              "      <td>15001</td>\n",
              "      <td>0.5</td>\n",
              "    </tr>\n",
              "    <tr>\n",
              "      <th>2</th>\n",
              "      <td>15002</td>\n",
              "      <td>0.5</td>\n",
              "    </tr>\n",
              "    <tr>\n",
              "      <th>3</th>\n",
              "      <td>15003</td>\n",
              "      <td>0.5</td>\n",
              "    </tr>\n",
              "    <tr>\n",
              "      <th>4</th>\n",
              "      <td>15004</td>\n",
              "      <td>0.5</td>\n",
              "    </tr>\n",
              "  </tbody>\n",
              "</table>\n",
              "</div>\n",
              "    <div class=\"colab-df-buttons\">\n",
              "\n",
              "  <div class=\"colab-df-container\">\n",
              "    <button class=\"colab-df-convert\" onclick=\"convertToInteractive('df-b3d86e09-5d28-4326-8e06-3baa3b0f03a0')\"\n",
              "            title=\"Convert this dataframe to an interactive table.\"\n",
              "            style=\"display:none;\">\n",
              "\n",
              "  <svg xmlns=\"http://www.w3.org/2000/svg\" height=\"24px\" viewBox=\"0 -960 960 960\">\n",
              "    <path d=\"M120-120v-720h720v720H120Zm60-500h600v-160H180v160Zm220 220h160v-160H400v160Zm0 220h160v-160H400v160ZM180-400h160v-160H180v160Zm440 0h160v-160H620v160ZM180-180h160v-160H180v160Zm440 0h160v-160H620v160Z\"/>\n",
              "  </svg>\n",
              "    </button>\n",
              "\n",
              "  <style>\n",
              "    .colab-df-container {\n",
              "      display:flex;\n",
              "      gap: 12px;\n",
              "    }\n",
              "\n",
              "    .colab-df-convert {\n",
              "      background-color: #E8F0FE;\n",
              "      border: none;\n",
              "      border-radius: 50%;\n",
              "      cursor: pointer;\n",
              "      display: none;\n",
              "      fill: #1967D2;\n",
              "      height: 32px;\n",
              "      padding: 0 0 0 0;\n",
              "      width: 32px;\n",
              "    }\n",
              "\n",
              "    .colab-df-convert:hover {\n",
              "      background-color: #E2EBFA;\n",
              "      box-shadow: 0px 1px 2px rgba(60, 64, 67, 0.3), 0px 1px 3px 1px rgba(60, 64, 67, 0.15);\n",
              "      fill: #174EA6;\n",
              "    }\n",
              "\n",
              "    .colab-df-buttons div {\n",
              "      margin-bottom: 4px;\n",
              "    }\n",
              "\n",
              "    [theme=dark] .colab-df-convert {\n",
              "      background-color: #3B4455;\n",
              "      fill: #D2E3FC;\n",
              "    }\n",
              "\n",
              "    [theme=dark] .colab-df-convert:hover {\n",
              "      background-color: #434B5C;\n",
              "      box-shadow: 0px 1px 3px 1px rgba(0, 0, 0, 0.15);\n",
              "      filter: drop-shadow(0px 1px 2px rgba(0, 0, 0, 0.3));\n",
              "      fill: #FFFFFF;\n",
              "    }\n",
              "  </style>\n",
              "\n",
              "    <script>\n",
              "      const buttonEl =\n",
              "        document.querySelector('#df-b3d86e09-5d28-4326-8e06-3baa3b0f03a0 button.colab-df-convert');\n",
              "      buttonEl.style.display =\n",
              "        google.colab.kernel.accessAllowed ? 'block' : 'none';\n",
              "\n",
              "      async function convertToInteractive(key) {\n",
              "        const element = document.querySelector('#df-b3d86e09-5d28-4326-8e06-3baa3b0f03a0');\n",
              "        const dataTable =\n",
              "          await google.colab.kernel.invokeFunction('convertToInteractive',\n",
              "                                                    [key], {});\n",
              "        if (!dataTable) return;\n",
              "\n",
              "        const docLinkHtml = 'Like what you see? Visit the ' +\n",
              "          '<a target=\"_blank\" href=https://colab.research.google.com/notebooks/data_table.ipynb>data table notebook</a>'\n",
              "          + ' to learn more about interactive tables.';\n",
              "        element.innerHTML = '';\n",
              "        dataTable['output_type'] = 'display_data';\n",
              "        await google.colab.output.renderOutput(dataTable, element);\n",
              "        const docLink = document.createElement('div');\n",
              "        docLink.innerHTML = docLinkHtml;\n",
              "        element.appendChild(docLink);\n",
              "      }\n",
              "    </script>\n",
              "  </div>\n",
              "\n",
              "\n",
              "<div id=\"df-9ed1f43c-7dbd-457a-bf04-70e4f54741ad\">\n",
              "  <button class=\"colab-df-quickchart\" onclick=\"quickchart('df-9ed1f43c-7dbd-457a-bf04-70e4f54741ad')\"\n",
              "            title=\"Suggest charts\"\n",
              "            style=\"display:none;\">\n",
              "\n",
              "<svg xmlns=\"http://www.w3.org/2000/svg\" height=\"24px\"viewBox=\"0 0 24 24\"\n",
              "     width=\"24px\">\n",
              "    <g>\n",
              "        <path d=\"M19 3H5c-1.1 0-2 .9-2 2v14c0 1.1.9 2 2 2h14c1.1 0 2-.9 2-2V5c0-1.1-.9-2-2-2zM9 17H7v-7h2v7zm4 0h-2V7h2v10zm4 0h-2v-4h2v4z\"/>\n",
              "    </g>\n",
              "</svg>\n",
              "  </button>\n",
              "\n",
              "<style>\n",
              "  .colab-df-quickchart {\n",
              "      --bg-color: #E8F0FE;\n",
              "      --fill-color: #1967D2;\n",
              "      --hover-bg-color: #E2EBFA;\n",
              "      --hover-fill-color: #174EA6;\n",
              "      --disabled-fill-color: #AAA;\n",
              "      --disabled-bg-color: #DDD;\n",
              "  }\n",
              "\n",
              "  [theme=dark] .colab-df-quickchart {\n",
              "      --bg-color: #3B4455;\n",
              "      --fill-color: #D2E3FC;\n",
              "      --hover-bg-color: #434B5C;\n",
              "      --hover-fill-color: #FFFFFF;\n",
              "      --disabled-bg-color: #3B4455;\n",
              "      --disabled-fill-color: #666;\n",
              "  }\n",
              "\n",
              "  .colab-df-quickchart {\n",
              "    background-color: var(--bg-color);\n",
              "    border: none;\n",
              "    border-radius: 50%;\n",
              "    cursor: pointer;\n",
              "    display: none;\n",
              "    fill: var(--fill-color);\n",
              "    height: 32px;\n",
              "    padding: 0;\n",
              "    width: 32px;\n",
              "  }\n",
              "\n",
              "  .colab-df-quickchart:hover {\n",
              "    background-color: var(--hover-bg-color);\n",
              "    box-shadow: 0 1px 2px rgba(60, 64, 67, 0.3), 0 1px 3px 1px rgba(60, 64, 67, 0.15);\n",
              "    fill: var(--button-hover-fill-color);\n",
              "  }\n",
              "\n",
              "  .colab-df-quickchart-complete:disabled,\n",
              "  .colab-df-quickchart-complete:disabled:hover {\n",
              "    background-color: var(--disabled-bg-color);\n",
              "    fill: var(--disabled-fill-color);\n",
              "    box-shadow: none;\n",
              "  }\n",
              "\n",
              "  .colab-df-spinner {\n",
              "    border: 2px solid var(--fill-color);\n",
              "    border-color: transparent;\n",
              "    border-bottom-color: var(--fill-color);\n",
              "    animation:\n",
              "      spin 1s steps(1) infinite;\n",
              "  }\n",
              "\n",
              "  @keyframes spin {\n",
              "    0% {\n",
              "      border-color: transparent;\n",
              "      border-bottom-color: var(--fill-color);\n",
              "      border-left-color: var(--fill-color);\n",
              "    }\n",
              "    20% {\n",
              "      border-color: transparent;\n",
              "      border-left-color: var(--fill-color);\n",
              "      border-top-color: var(--fill-color);\n",
              "    }\n",
              "    30% {\n",
              "      border-color: transparent;\n",
              "      border-left-color: var(--fill-color);\n",
              "      border-top-color: var(--fill-color);\n",
              "      border-right-color: var(--fill-color);\n",
              "    }\n",
              "    40% {\n",
              "      border-color: transparent;\n",
              "      border-right-color: var(--fill-color);\n",
              "      border-top-color: var(--fill-color);\n",
              "    }\n",
              "    60% {\n",
              "      border-color: transparent;\n",
              "      border-right-color: var(--fill-color);\n",
              "    }\n",
              "    80% {\n",
              "      border-color: transparent;\n",
              "      border-right-color: var(--fill-color);\n",
              "      border-bottom-color: var(--fill-color);\n",
              "    }\n",
              "    90% {\n",
              "      border-color: transparent;\n",
              "      border-bottom-color: var(--fill-color);\n",
              "    }\n",
              "  }\n",
              "</style>\n",
              "\n",
              "  <script>\n",
              "    async function quickchart(key) {\n",
              "      const quickchartButtonEl =\n",
              "        document.querySelector('#' + key + ' button');\n",
              "      quickchartButtonEl.disabled = true;  // To prevent multiple clicks.\n",
              "      quickchartButtonEl.classList.add('colab-df-spinner');\n",
              "      try {\n",
              "        const charts = await google.colab.kernel.invokeFunction(\n",
              "            'suggestCharts', [key], {});\n",
              "      } catch (error) {\n",
              "        console.error('Error during call to suggestCharts:', error);\n",
              "      }\n",
              "      quickchartButtonEl.classList.remove('colab-df-spinner');\n",
              "      quickchartButtonEl.classList.add('colab-df-quickchart-complete');\n",
              "    }\n",
              "    (() => {\n",
              "      let quickchartButtonEl =\n",
              "        document.querySelector('#df-9ed1f43c-7dbd-457a-bf04-70e4f54741ad button');\n",
              "      quickchartButtonEl.style.display =\n",
              "        google.colab.kernel.accessAllowed ? 'block' : 'none';\n",
              "    })();\n",
              "  </script>\n",
              "</div>\n",
              "    </div>\n",
              "  </div>\n"
            ],
            "application/vnd.google.colaboratory.intrinsic+json": {
              "type": "dataframe",
              "summary": "{\n  \"name\": \"submission[:5]\",\n  \"rows\": 5,\n  \"fields\": [\n    {\n      \"column\": \"id\",\n      \"properties\": {\n        \"dtype\": \"number\",\n        \"std\": 1,\n        \"min\": 15000,\n        \"max\": 15004,\n        \"num_unique_values\": 5,\n        \"samples\": [\n          15001,\n          15004,\n          15002\n        ],\n        \"semantic_type\": \"\",\n        \"description\": \"\"\n      }\n    },\n    {\n      \"column\": \"Exited\",\n      \"properties\": {\n        \"dtype\": \"number\",\n        \"std\": 0.0,\n        \"min\": 0.5,\n        \"max\": 0.5,\n        \"num_unique_values\": 1,\n        \"samples\": [\n          0.5\n        ],\n        \"semantic_type\": \"\",\n        \"description\": \"\"\n      }\n    }\n  ]\n}"
            }
          },
          "metadata": {},
          "execution_count": 45
        }
      ]
    },
    {
      "cell_type": "code",
      "source": [
        "submission['Exited'] = test['Exited'].values\n",
        "submission.head()"
      ],
      "metadata": {
        "colab": {
          "base_uri": "https://localhost:8080/",
          "height": 206
        },
        "id": "7OqIiqeG8T-5",
        "outputId": "905e70cd-6e19-459f-add3-5010e66ea92d"
      },
      "execution_count": 46,
      "outputs": [
        {
          "output_type": "execute_result",
          "data": {
            "text/plain": [
              "      id    Exited\n",
              "0  15000  0.204983\n",
              "1  15001  0.015058\n",
              "2  15002  0.045842\n",
              "3  15003  0.357860\n",
              "4  15004  0.045842"
            ],
            "text/html": [
              "\n",
              "  <div id=\"df-4b7d3009-6f9f-4811-b37c-490d03a02b30\" class=\"colab-df-container\">\n",
              "    <div>\n",
              "<style scoped>\n",
              "    .dataframe tbody tr th:only-of-type {\n",
              "        vertical-align: middle;\n",
              "    }\n",
              "\n",
              "    .dataframe tbody tr th {\n",
              "        vertical-align: top;\n",
              "    }\n",
              "\n",
              "    .dataframe thead th {\n",
              "        text-align: right;\n",
              "    }\n",
              "</style>\n",
              "<table border=\"1\" class=\"dataframe\">\n",
              "  <thead>\n",
              "    <tr style=\"text-align: right;\">\n",
              "      <th></th>\n",
              "      <th>id</th>\n",
              "      <th>Exited</th>\n",
              "    </tr>\n",
              "  </thead>\n",
              "  <tbody>\n",
              "    <tr>\n",
              "      <th>0</th>\n",
              "      <td>15000</td>\n",
              "      <td>0.204983</td>\n",
              "    </tr>\n",
              "    <tr>\n",
              "      <th>1</th>\n",
              "      <td>15001</td>\n",
              "      <td>0.015058</td>\n",
              "    </tr>\n",
              "    <tr>\n",
              "      <th>2</th>\n",
              "      <td>15002</td>\n",
              "      <td>0.045842</td>\n",
              "    </tr>\n",
              "    <tr>\n",
              "      <th>3</th>\n",
              "      <td>15003</td>\n",
              "      <td>0.357860</td>\n",
              "    </tr>\n",
              "    <tr>\n",
              "      <th>4</th>\n",
              "      <td>15004</td>\n",
              "      <td>0.045842</td>\n",
              "    </tr>\n",
              "  </tbody>\n",
              "</table>\n",
              "</div>\n",
              "    <div class=\"colab-df-buttons\">\n",
              "\n",
              "  <div class=\"colab-df-container\">\n",
              "    <button class=\"colab-df-convert\" onclick=\"convertToInteractive('df-4b7d3009-6f9f-4811-b37c-490d03a02b30')\"\n",
              "            title=\"Convert this dataframe to an interactive table.\"\n",
              "            style=\"display:none;\">\n",
              "\n",
              "  <svg xmlns=\"http://www.w3.org/2000/svg\" height=\"24px\" viewBox=\"0 -960 960 960\">\n",
              "    <path d=\"M120-120v-720h720v720H120Zm60-500h600v-160H180v160Zm220 220h160v-160H400v160Zm0 220h160v-160H400v160ZM180-400h160v-160H180v160Zm440 0h160v-160H620v160ZM180-180h160v-160H180v160Zm440 0h160v-160H620v160Z\"/>\n",
              "  </svg>\n",
              "    </button>\n",
              "\n",
              "  <style>\n",
              "    .colab-df-container {\n",
              "      display:flex;\n",
              "      gap: 12px;\n",
              "    }\n",
              "\n",
              "    .colab-df-convert {\n",
              "      background-color: #E8F0FE;\n",
              "      border: none;\n",
              "      border-radius: 50%;\n",
              "      cursor: pointer;\n",
              "      display: none;\n",
              "      fill: #1967D2;\n",
              "      height: 32px;\n",
              "      padding: 0 0 0 0;\n",
              "      width: 32px;\n",
              "    }\n",
              "\n",
              "    .colab-df-convert:hover {\n",
              "      background-color: #E2EBFA;\n",
              "      box-shadow: 0px 1px 2px rgba(60, 64, 67, 0.3), 0px 1px 3px 1px rgba(60, 64, 67, 0.15);\n",
              "      fill: #174EA6;\n",
              "    }\n",
              "\n",
              "    .colab-df-buttons div {\n",
              "      margin-bottom: 4px;\n",
              "    }\n",
              "\n",
              "    [theme=dark] .colab-df-convert {\n",
              "      background-color: #3B4455;\n",
              "      fill: #D2E3FC;\n",
              "    }\n",
              "\n",
              "    [theme=dark] .colab-df-convert:hover {\n",
              "      background-color: #434B5C;\n",
              "      box-shadow: 0px 1px 3px 1px rgba(0, 0, 0, 0.15);\n",
              "      filter: drop-shadow(0px 1px 2px rgba(0, 0, 0, 0.3));\n",
              "      fill: #FFFFFF;\n",
              "    }\n",
              "  </style>\n",
              "\n",
              "    <script>\n",
              "      const buttonEl =\n",
              "        document.querySelector('#df-4b7d3009-6f9f-4811-b37c-490d03a02b30 button.colab-df-convert');\n",
              "      buttonEl.style.display =\n",
              "        google.colab.kernel.accessAllowed ? 'block' : 'none';\n",
              "\n",
              "      async function convertToInteractive(key) {\n",
              "        const element = document.querySelector('#df-4b7d3009-6f9f-4811-b37c-490d03a02b30');\n",
              "        const dataTable =\n",
              "          await google.colab.kernel.invokeFunction('convertToInteractive',\n",
              "                                                    [key], {});\n",
              "        if (!dataTable) return;\n",
              "\n",
              "        const docLinkHtml = 'Like what you see? Visit the ' +\n",
              "          '<a target=\"_blank\" href=https://colab.research.google.com/notebooks/data_table.ipynb>data table notebook</a>'\n",
              "          + ' to learn more about interactive tables.';\n",
              "        element.innerHTML = '';\n",
              "        dataTable['output_type'] = 'display_data';\n",
              "        await google.colab.output.renderOutput(dataTable, element);\n",
              "        const docLink = document.createElement('div');\n",
              "        docLink.innerHTML = docLinkHtml;\n",
              "        element.appendChild(docLink);\n",
              "      }\n",
              "    </script>\n",
              "  </div>\n",
              "\n",
              "\n",
              "<div id=\"df-230ba027-6a72-4504-98ba-6264738f548e\">\n",
              "  <button class=\"colab-df-quickchart\" onclick=\"quickchart('df-230ba027-6a72-4504-98ba-6264738f548e')\"\n",
              "            title=\"Suggest charts\"\n",
              "            style=\"display:none;\">\n",
              "\n",
              "<svg xmlns=\"http://www.w3.org/2000/svg\" height=\"24px\"viewBox=\"0 0 24 24\"\n",
              "     width=\"24px\">\n",
              "    <g>\n",
              "        <path d=\"M19 3H5c-1.1 0-2 .9-2 2v14c0 1.1.9 2 2 2h14c1.1 0 2-.9 2-2V5c0-1.1-.9-2-2-2zM9 17H7v-7h2v7zm4 0h-2V7h2v10zm4 0h-2v-4h2v4z\"/>\n",
              "    </g>\n",
              "</svg>\n",
              "  </button>\n",
              "\n",
              "<style>\n",
              "  .colab-df-quickchart {\n",
              "      --bg-color: #E8F0FE;\n",
              "      --fill-color: #1967D2;\n",
              "      --hover-bg-color: #E2EBFA;\n",
              "      --hover-fill-color: #174EA6;\n",
              "      --disabled-fill-color: #AAA;\n",
              "      --disabled-bg-color: #DDD;\n",
              "  }\n",
              "\n",
              "  [theme=dark] .colab-df-quickchart {\n",
              "      --bg-color: #3B4455;\n",
              "      --fill-color: #D2E3FC;\n",
              "      --hover-bg-color: #434B5C;\n",
              "      --hover-fill-color: #FFFFFF;\n",
              "      --disabled-bg-color: #3B4455;\n",
              "      --disabled-fill-color: #666;\n",
              "  }\n",
              "\n",
              "  .colab-df-quickchart {\n",
              "    background-color: var(--bg-color);\n",
              "    border: none;\n",
              "    border-radius: 50%;\n",
              "    cursor: pointer;\n",
              "    display: none;\n",
              "    fill: var(--fill-color);\n",
              "    height: 32px;\n",
              "    padding: 0;\n",
              "    width: 32px;\n",
              "  }\n",
              "\n",
              "  .colab-df-quickchart:hover {\n",
              "    background-color: var(--hover-bg-color);\n",
              "    box-shadow: 0 1px 2px rgba(60, 64, 67, 0.3), 0 1px 3px 1px rgba(60, 64, 67, 0.15);\n",
              "    fill: var(--button-hover-fill-color);\n",
              "  }\n",
              "\n",
              "  .colab-df-quickchart-complete:disabled,\n",
              "  .colab-df-quickchart-complete:disabled:hover {\n",
              "    background-color: var(--disabled-bg-color);\n",
              "    fill: var(--disabled-fill-color);\n",
              "    box-shadow: none;\n",
              "  }\n",
              "\n",
              "  .colab-df-spinner {\n",
              "    border: 2px solid var(--fill-color);\n",
              "    border-color: transparent;\n",
              "    border-bottom-color: var(--fill-color);\n",
              "    animation:\n",
              "      spin 1s steps(1) infinite;\n",
              "  }\n",
              "\n",
              "  @keyframes spin {\n",
              "    0% {\n",
              "      border-color: transparent;\n",
              "      border-bottom-color: var(--fill-color);\n",
              "      border-left-color: var(--fill-color);\n",
              "    }\n",
              "    20% {\n",
              "      border-color: transparent;\n",
              "      border-left-color: var(--fill-color);\n",
              "      border-top-color: var(--fill-color);\n",
              "    }\n",
              "    30% {\n",
              "      border-color: transparent;\n",
              "      border-left-color: var(--fill-color);\n",
              "      border-top-color: var(--fill-color);\n",
              "      border-right-color: var(--fill-color);\n",
              "    }\n",
              "    40% {\n",
              "      border-color: transparent;\n",
              "      border-right-color: var(--fill-color);\n",
              "      border-top-color: var(--fill-color);\n",
              "    }\n",
              "    60% {\n",
              "      border-color: transparent;\n",
              "      border-right-color: var(--fill-color);\n",
              "    }\n",
              "    80% {\n",
              "      border-color: transparent;\n",
              "      border-right-color: var(--fill-color);\n",
              "      border-bottom-color: var(--fill-color);\n",
              "    }\n",
              "    90% {\n",
              "      border-color: transparent;\n",
              "      border-bottom-color: var(--fill-color);\n",
              "    }\n",
              "  }\n",
              "</style>\n",
              "\n",
              "  <script>\n",
              "    async function quickchart(key) {\n",
              "      const quickchartButtonEl =\n",
              "        document.querySelector('#' + key + ' button');\n",
              "      quickchartButtonEl.disabled = true;  // To prevent multiple clicks.\n",
              "      quickchartButtonEl.classList.add('colab-df-spinner');\n",
              "      try {\n",
              "        const charts = await google.colab.kernel.invokeFunction(\n",
              "            'suggestCharts', [key], {});\n",
              "      } catch (error) {\n",
              "        console.error('Error during call to suggestCharts:', error);\n",
              "      }\n",
              "      quickchartButtonEl.classList.remove('colab-df-spinner');\n",
              "      quickchartButtonEl.classList.add('colab-df-quickchart-complete');\n",
              "    }\n",
              "    (() => {\n",
              "      let quickchartButtonEl =\n",
              "        document.querySelector('#df-230ba027-6a72-4504-98ba-6264738f548e button');\n",
              "      quickchartButtonEl.style.display =\n",
              "        google.colab.kernel.accessAllowed ? 'block' : 'none';\n",
              "    })();\n",
              "  </script>\n",
              "</div>\n",
              "    </div>\n",
              "  </div>\n"
            ],
            "application/vnd.google.colaboratory.intrinsic+json": {
              "type": "dataframe",
              "variable_name": "submission",
              "summary": "{\n  \"name\": \"submission\",\n  \"rows\": 10000,\n  \"fields\": [\n    {\n      \"column\": \"id\",\n      \"properties\": {\n        \"dtype\": \"number\",\n        \"std\": 2886,\n        \"min\": 15000,\n        \"max\": 24999,\n        \"num_unique_values\": 10000,\n        \"samples\": [\n          21252,\n          19684,\n          16731\n        ],\n        \"semantic_type\": \"\",\n        \"description\": \"\"\n      }\n    },\n    {\n      \"column\": \"Exited\",\n      \"properties\": {\n        \"dtype\": \"number\",\n        \"std\": 0.2654188079002109,\n        \"min\": 0.015057915057915058,\n        \"max\": 0.9736842105263158,\n        \"num_unique_values\": 16,\n        \"samples\": [\n          0.20498301245753114,\n          0.015057915057915058,\n          0.18276762402088773\n        ],\n        \"semantic_type\": \"\",\n        \"description\": \"\"\n      }\n    }\n  ]\n}"
            }
          },
          "metadata": {},
          "execution_count": 46
        }
      ]
    },
    {
      "cell_type": "code",
      "source": [
        "submission.to_csv('submission_decision_dt_random_search_best.csv', index=False)"
      ],
      "metadata": {
        "id": "hhcvAfUg8X95"
      },
      "execution_count": 47,
      "outputs": []
    },
    {
      "cell_type": "markdown",
      "source": [
        "![submission_decision_dt_random_search_best.jpg](data:image/jpeg;base64,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)"
      ],
      "metadata": {
        "id": "Pgd8UYys9LDo"
      }
    },
    {
      "cell_type": "code",
      "source": [
        "test = preprocess_new_data(new_data, scaler, encoder)"
      ],
      "metadata": {
        "id": "XBcoBJqc9bK8"
      },
      "execution_count": 48,
      "outputs": []
    },
    {
      "cell_type": "code",
      "source": [
        "probability = tree_best.predict_proba(test)[:,1]\n",
        "probability"
      ],
      "metadata": {
        "colab": {
          "base_uri": "https://localhost:8080/"
        },
        "outputId": "88e547fc-d7fc-456a-b6da-5c9cba0f5cd4",
        "id": "6D_6K7679bK-"
      },
      "execution_count": 49,
      "outputs": [
        {
          "output_type": "execute_result",
          "data": {
            "text/plain": [
              "array([0.1443299, 0.0208616, 0.0208616, ..., 0.0208616, 0.1443299,\n",
              "       0.1443299])"
            ]
          },
          "metadata": {},
          "execution_count": 49
        }
      ]
    },
    {
      "cell_type": "code",
      "source": [
        "test['Exited'] = probability"
      ],
      "metadata": {
        "id": "suJeuNbP9bLB"
      },
      "execution_count": 50,
      "outputs": []
    },
    {
      "cell_type": "code",
      "source": [
        "submission = pd.read_csv('sample_submission.csv')\n",
        "\n",
        "submission[:5]"
      ],
      "metadata": {
        "colab": {
          "base_uri": "https://localhost:8080/",
          "height": 206
        },
        "outputId": "5f5c0400-a601-4757-ccd5-1e6ecf5e80c6",
        "id": "P8OZUTls9bLC"
      },
      "execution_count": 51,
      "outputs": [
        {
          "output_type": "execute_result",
          "data": {
            "text/plain": [
              "      id  Exited\n",
              "0  15000     0.5\n",
              "1  15001     0.5\n",
              "2  15002     0.5\n",
              "3  15003     0.5\n",
              "4  15004     0.5"
            ],
            "text/html": [
              "\n",
              "  <div id=\"df-0422d3d8-a245-4210-be7e-c4834a2beb87\" class=\"colab-df-container\">\n",
              "    <div>\n",
              "<style scoped>\n",
              "    .dataframe tbody tr th:only-of-type {\n",
              "        vertical-align: middle;\n",
              "    }\n",
              "\n",
              "    .dataframe tbody tr th {\n",
              "        vertical-align: top;\n",
              "    }\n",
              "\n",
              "    .dataframe thead th {\n",
              "        text-align: right;\n",
              "    }\n",
              "</style>\n",
              "<table border=\"1\" class=\"dataframe\">\n",
              "  <thead>\n",
              "    <tr style=\"text-align: right;\">\n",
              "      <th></th>\n",
              "      <th>id</th>\n",
              "      <th>Exited</th>\n",
              "    </tr>\n",
              "  </thead>\n",
              "  <tbody>\n",
              "    <tr>\n",
              "      <th>0</th>\n",
              "      <td>15000</td>\n",
              "      <td>0.5</td>\n",
              "    </tr>\n",
              "    <tr>\n",
              "      <th>1</th>\n",
              "      <td>15001</td>\n",
              "      <td>0.5</td>\n",
              "    </tr>\n",
              "    <tr>\n",
              "      <th>2</th>\n",
              "      <td>15002</td>\n",
              "      <td>0.5</td>\n",
              "    </tr>\n",
              "    <tr>\n",
              "      <th>3</th>\n",
              "      <td>15003</td>\n",
              "      <td>0.5</td>\n",
              "    </tr>\n",
              "    <tr>\n",
              "      <th>4</th>\n",
              "      <td>15004</td>\n",
              "      <td>0.5</td>\n",
              "    </tr>\n",
              "  </tbody>\n",
              "</table>\n",
              "</div>\n",
              "    <div class=\"colab-df-buttons\">\n",
              "\n",
              "  <div class=\"colab-df-container\">\n",
              "    <button class=\"colab-df-convert\" onclick=\"convertToInteractive('df-0422d3d8-a245-4210-be7e-c4834a2beb87')\"\n",
              "            title=\"Convert this dataframe to an interactive table.\"\n",
              "            style=\"display:none;\">\n",
              "\n",
              "  <svg xmlns=\"http://www.w3.org/2000/svg\" height=\"24px\" viewBox=\"0 -960 960 960\">\n",
              "    <path d=\"M120-120v-720h720v720H120Zm60-500h600v-160H180v160Zm220 220h160v-160H400v160Zm0 220h160v-160H400v160ZM180-400h160v-160H180v160Zm440 0h160v-160H620v160ZM180-180h160v-160H180v160Zm440 0h160v-160H620v160Z\"/>\n",
              "  </svg>\n",
              "    </button>\n",
              "\n",
              "  <style>\n",
              "    .colab-df-container {\n",
              "      display:flex;\n",
              "      gap: 12px;\n",
              "    }\n",
              "\n",
              "    .colab-df-convert {\n",
              "      background-color: #E8F0FE;\n",
              "      border: none;\n",
              "      border-radius: 50%;\n",
              "      cursor: pointer;\n",
              "      display: none;\n",
              "      fill: #1967D2;\n",
              "      height: 32px;\n",
              "      padding: 0 0 0 0;\n",
              "      width: 32px;\n",
              "    }\n",
              "\n",
              "    .colab-df-convert:hover {\n",
              "      background-color: #E2EBFA;\n",
              "      box-shadow: 0px 1px 2px rgba(60, 64, 67, 0.3), 0px 1px 3px 1px rgba(60, 64, 67, 0.15);\n",
              "      fill: #174EA6;\n",
              "    }\n",
              "\n",
              "    .colab-df-buttons div {\n",
              "      margin-bottom: 4px;\n",
              "    }\n",
              "\n",
              "    [theme=dark] .colab-df-convert {\n",
              "      background-color: #3B4455;\n",
              "      fill: #D2E3FC;\n",
              "    }\n",
              "\n",
              "    [theme=dark] .colab-df-convert:hover {\n",
              "      background-color: #434B5C;\n",
              "      box-shadow: 0px 1px 3px 1px rgba(0, 0, 0, 0.15);\n",
              "      filter: drop-shadow(0px 1px 2px rgba(0, 0, 0, 0.3));\n",
              "      fill: #FFFFFF;\n",
              "    }\n",
              "  </style>\n",
              "\n",
              "    <script>\n",
              "      const buttonEl =\n",
              "        document.querySelector('#df-0422d3d8-a245-4210-be7e-c4834a2beb87 button.colab-df-convert');\n",
              "      buttonEl.style.display =\n",
              "        google.colab.kernel.accessAllowed ? 'block' : 'none';\n",
              "\n",
              "      async function convertToInteractive(key) {\n",
              "        const element = document.querySelector('#df-0422d3d8-a245-4210-be7e-c4834a2beb87');\n",
              "        const dataTable =\n",
              "          await google.colab.kernel.invokeFunction('convertToInteractive',\n",
              "                                                    [key], {});\n",
              "        if (!dataTable) return;\n",
              "\n",
              "        const docLinkHtml = 'Like what you see? Visit the ' +\n",
              "          '<a target=\"_blank\" href=https://colab.research.google.com/notebooks/data_table.ipynb>data table notebook</a>'\n",
              "          + ' to learn more about interactive tables.';\n",
              "        element.innerHTML = '';\n",
              "        dataTable['output_type'] = 'display_data';\n",
              "        await google.colab.output.renderOutput(dataTable, element);\n",
              "        const docLink = document.createElement('div');\n",
              "        docLink.innerHTML = docLinkHtml;\n",
              "        element.appendChild(docLink);\n",
              "      }\n",
              "    </script>\n",
              "  </div>\n",
              "\n",
              "\n",
              "<div id=\"df-418f6095-97a9-47d7-8f65-1bb9f4ebcf18\">\n",
              "  <button class=\"colab-df-quickchart\" onclick=\"quickchart('df-418f6095-97a9-47d7-8f65-1bb9f4ebcf18')\"\n",
              "            title=\"Suggest charts\"\n",
              "            style=\"display:none;\">\n",
              "\n",
              "<svg xmlns=\"http://www.w3.org/2000/svg\" height=\"24px\"viewBox=\"0 0 24 24\"\n",
              "     width=\"24px\">\n",
              "    <g>\n",
              "        <path d=\"M19 3H5c-1.1 0-2 .9-2 2v14c0 1.1.9 2 2 2h14c1.1 0 2-.9 2-2V5c0-1.1-.9-2-2-2zM9 17H7v-7h2v7zm4 0h-2V7h2v10zm4 0h-2v-4h2v4z\"/>\n",
              "    </g>\n",
              "</svg>\n",
              "  </button>\n",
              "\n",
              "<style>\n",
              "  .colab-df-quickchart {\n",
              "      --bg-color: #E8F0FE;\n",
              "      --fill-color: #1967D2;\n",
              "      --hover-bg-color: #E2EBFA;\n",
              "      --hover-fill-color: #174EA6;\n",
              "      --disabled-fill-color: #AAA;\n",
              "      --disabled-bg-color: #DDD;\n",
              "  }\n",
              "\n",
              "  [theme=dark] .colab-df-quickchart {\n",
              "      --bg-color: #3B4455;\n",
              "      --fill-color: #D2E3FC;\n",
              "      --hover-bg-color: #434B5C;\n",
              "      --hover-fill-color: #FFFFFF;\n",
              "      --disabled-bg-color: #3B4455;\n",
              "      --disabled-fill-color: #666;\n",
              "  }\n",
              "\n",
              "  .colab-df-quickchart {\n",
              "    background-color: var(--bg-color);\n",
              "    border: none;\n",
              "    border-radius: 50%;\n",
              "    cursor: pointer;\n",
              "    display: none;\n",
              "    fill: var(--fill-color);\n",
              "    height: 32px;\n",
              "    padding: 0;\n",
              "    width: 32px;\n",
              "  }\n",
              "\n",
              "  .colab-df-quickchart:hover {\n",
              "    background-color: var(--hover-bg-color);\n",
              "    box-shadow: 0 1px 2px rgba(60, 64, 67, 0.3), 0 1px 3px 1px rgba(60, 64, 67, 0.15);\n",
              "    fill: var(--button-hover-fill-color);\n",
              "  }\n",
              "\n",
              "  .colab-df-quickchart-complete:disabled,\n",
              "  .colab-df-quickchart-complete:disabled:hover {\n",
              "    background-color: var(--disabled-bg-color);\n",
              "    fill: var(--disabled-fill-color);\n",
              "    box-shadow: none;\n",
              "  }\n",
              "\n",
              "  .colab-df-spinner {\n",
              "    border: 2px solid var(--fill-color);\n",
              "    border-color: transparent;\n",
              "    border-bottom-color: var(--fill-color);\n",
              "    animation:\n",
              "      spin 1s steps(1) infinite;\n",
              "  }\n",
              "\n",
              "  @keyframes spin {\n",
              "    0% {\n",
              "      border-color: transparent;\n",
              "      border-bottom-color: var(--fill-color);\n",
              "      border-left-color: var(--fill-color);\n",
              "    }\n",
              "    20% {\n",
              "      border-color: transparent;\n",
              "      border-left-color: var(--fill-color);\n",
              "      border-top-color: var(--fill-color);\n",
              "    }\n",
              "    30% {\n",
              "      border-color: transparent;\n",
              "      border-left-color: var(--fill-color);\n",
              "      border-top-color: var(--fill-color);\n",
              "      border-right-color: var(--fill-color);\n",
              "    }\n",
              "    40% {\n",
              "      border-color: transparent;\n",
              "      border-right-color: var(--fill-color);\n",
              "      border-top-color: var(--fill-color);\n",
              "    }\n",
              "    60% {\n",
              "      border-color: transparent;\n",
              "      border-right-color: var(--fill-color);\n",
              "    }\n",
              "    80% {\n",
              "      border-color: transparent;\n",
              "      border-right-color: var(--fill-color);\n",
              "      border-bottom-color: var(--fill-color);\n",
              "    }\n",
              "    90% {\n",
              "      border-color: transparent;\n",
              "      border-bottom-color: var(--fill-color);\n",
              "    }\n",
              "  }\n",
              "</style>\n",
              "\n",
              "  <script>\n",
              "    async function quickchart(key) {\n",
              "      const quickchartButtonEl =\n",
              "        document.querySelector('#' + key + ' button');\n",
              "      quickchartButtonEl.disabled = true;  // To prevent multiple clicks.\n",
              "      quickchartButtonEl.classList.add('colab-df-spinner');\n",
              "      try {\n",
              "        const charts = await google.colab.kernel.invokeFunction(\n",
              "            'suggestCharts', [key], {});\n",
              "      } catch (error) {\n",
              "        console.error('Error during call to suggestCharts:', error);\n",
              "      }\n",
              "      quickchartButtonEl.classList.remove('colab-df-spinner');\n",
              "      quickchartButtonEl.classList.add('colab-df-quickchart-complete');\n",
              "    }\n",
              "    (() => {\n",
              "      let quickchartButtonEl =\n",
              "        document.querySelector('#df-418f6095-97a9-47d7-8f65-1bb9f4ebcf18 button');\n",
              "      quickchartButtonEl.style.display =\n",
              "        google.colab.kernel.accessAllowed ? 'block' : 'none';\n",
              "    })();\n",
              "  </script>\n",
              "</div>\n",
              "    </div>\n",
              "  </div>\n"
            ],
            "application/vnd.google.colaboratory.intrinsic+json": {
              "type": "dataframe",
              "summary": "{\n  \"name\": \"submission[:5]\",\n  \"rows\": 5,\n  \"fields\": [\n    {\n      \"column\": \"id\",\n      \"properties\": {\n        \"dtype\": \"number\",\n        \"std\": 1,\n        \"min\": 15000,\n        \"max\": 15004,\n        \"num_unique_values\": 5,\n        \"samples\": [\n          15001,\n          15004,\n          15002\n        ],\n        \"semantic_type\": \"\",\n        \"description\": \"\"\n      }\n    },\n    {\n      \"column\": \"Exited\",\n      \"properties\": {\n        \"dtype\": \"number\",\n        \"std\": 0.0,\n        \"min\": 0.5,\n        \"max\": 0.5,\n        \"num_unique_values\": 1,\n        \"samples\": [\n          0.5\n        ],\n        \"semantic_type\": \"\",\n        \"description\": \"\"\n      }\n    }\n  ]\n}"
            }
          },
          "metadata": {},
          "execution_count": 51
        }
      ]
    },
    {
      "cell_type": "code",
      "source": [
        "submission['Exited'] = test['Exited'].values\n",
        "submission.head()"
      ],
      "metadata": {
        "colab": {
          "base_uri": "https://localhost:8080/",
          "height": 206
        },
        "outputId": "73e3f448-6018-43a7-8148-7d6cedc53b81",
        "id": "GqpEjiCS9bLD"
      },
      "execution_count": 52,
      "outputs": [
        {
          "output_type": "execute_result",
          "data": {
            "text/plain": [
              "      id    Exited\n",
              "0  15000  0.144330\n",
              "1  15001  0.020862\n",
              "2  15002  0.020862\n",
              "3  15003  0.618718\n",
              "4  15004  0.020862"
            ],
            "text/html": [
              "\n",
              "  <div id=\"df-90bed606-cfc8-4fb6-9efe-1840216f5a06\" class=\"colab-df-container\">\n",
              "    <div>\n",
              "<style scoped>\n",
              "    .dataframe tbody tr th:only-of-type {\n",
              "        vertical-align: middle;\n",
              "    }\n",
              "\n",
              "    .dataframe tbody tr th {\n",
              "        vertical-align: top;\n",
              "    }\n",
              "\n",
              "    .dataframe thead th {\n",
              "        text-align: right;\n",
              "    }\n",
              "</style>\n",
              "<table border=\"1\" class=\"dataframe\">\n",
              "  <thead>\n",
              "    <tr style=\"text-align: right;\">\n",
              "      <th></th>\n",
              "      <th>id</th>\n",
              "      <th>Exited</th>\n",
              "    </tr>\n",
              "  </thead>\n",
              "  <tbody>\n",
              "    <tr>\n",
              "      <th>0</th>\n",
              "      <td>15000</td>\n",
              "      <td>0.144330</td>\n",
              "    </tr>\n",
              "    <tr>\n",
              "      <th>1</th>\n",
              "      <td>15001</td>\n",
              "      <td>0.020862</td>\n",
              "    </tr>\n",
              "    <tr>\n",
              "      <th>2</th>\n",
              "      <td>15002</td>\n",
              "      <td>0.020862</td>\n",
              "    </tr>\n",
              "    <tr>\n",
              "      <th>3</th>\n",
              "      <td>15003</td>\n",
              "      <td>0.618718</td>\n",
              "    </tr>\n",
              "    <tr>\n",
              "      <th>4</th>\n",
              "      <td>15004</td>\n",
              "      <td>0.020862</td>\n",
              "    </tr>\n",
              "  </tbody>\n",
              "</table>\n",
              "</div>\n",
              "    <div class=\"colab-df-buttons\">\n",
              "\n",
              "  <div class=\"colab-df-container\">\n",
              "    <button class=\"colab-df-convert\" onclick=\"convertToInteractive('df-90bed606-cfc8-4fb6-9efe-1840216f5a06')\"\n",
              "            title=\"Convert this dataframe to an interactive table.\"\n",
              "            style=\"display:none;\">\n",
              "\n",
              "  <svg xmlns=\"http://www.w3.org/2000/svg\" height=\"24px\" viewBox=\"0 -960 960 960\">\n",
              "    <path d=\"M120-120v-720h720v720H120Zm60-500h600v-160H180v160Zm220 220h160v-160H400v160Zm0 220h160v-160H400v160ZM180-400h160v-160H180v160Zm440 0h160v-160H620v160ZM180-180h160v-160H180v160Zm440 0h160v-160H620v160Z\"/>\n",
              "  </svg>\n",
              "    </button>\n",
              "\n",
              "  <style>\n",
              "    .colab-df-container {\n",
              "      display:flex;\n",
              "      gap: 12px;\n",
              "    }\n",
              "\n",
              "    .colab-df-convert {\n",
              "      background-color: #E8F0FE;\n",
              "      border: none;\n",
              "      border-radius: 50%;\n",
              "      cursor: pointer;\n",
              "      display: none;\n",
              "      fill: #1967D2;\n",
              "      height: 32px;\n",
              "      padding: 0 0 0 0;\n",
              "      width: 32px;\n",
              "    }\n",
              "\n",
              "    .colab-df-convert:hover {\n",
              "      background-color: #E2EBFA;\n",
              "      box-shadow: 0px 1px 2px rgba(60, 64, 67, 0.3), 0px 1px 3px 1px rgba(60, 64, 67, 0.15);\n",
              "      fill: #174EA6;\n",
              "    }\n",
              "\n",
              "    .colab-df-buttons div {\n",
              "      margin-bottom: 4px;\n",
              "    }\n",
              "\n",
              "    [theme=dark] .colab-df-convert {\n",
              "      background-color: #3B4455;\n",
              "      fill: #D2E3FC;\n",
              "    }\n",
              "\n",
              "    [theme=dark] .colab-df-convert:hover {\n",
              "      background-color: #434B5C;\n",
              "      box-shadow: 0px 1px 3px 1px rgba(0, 0, 0, 0.15);\n",
              "      filter: drop-shadow(0px 1px 2px rgba(0, 0, 0, 0.3));\n",
              "      fill: #FFFFFF;\n",
              "    }\n",
              "  </style>\n",
              "\n",
              "    <script>\n",
              "      const buttonEl =\n",
              "        document.querySelector('#df-90bed606-cfc8-4fb6-9efe-1840216f5a06 button.colab-df-convert');\n",
              "      buttonEl.style.display =\n",
              "        google.colab.kernel.accessAllowed ? 'block' : 'none';\n",
              "\n",
              "      async function convertToInteractive(key) {\n",
              "        const element = document.querySelector('#df-90bed606-cfc8-4fb6-9efe-1840216f5a06');\n",
              "        const dataTable =\n",
              "          await google.colab.kernel.invokeFunction('convertToInteractive',\n",
              "                                                    [key], {});\n",
              "        if (!dataTable) return;\n",
              "\n",
              "        const docLinkHtml = 'Like what you see? Visit the ' +\n",
              "          '<a target=\"_blank\" href=https://colab.research.google.com/notebooks/data_table.ipynb>data table notebook</a>'\n",
              "          + ' to learn more about interactive tables.';\n",
              "        element.innerHTML = '';\n",
              "        dataTable['output_type'] = 'display_data';\n",
              "        await google.colab.output.renderOutput(dataTable, element);\n",
              "        const docLink = document.createElement('div');\n",
              "        docLink.innerHTML = docLinkHtml;\n",
              "        element.appendChild(docLink);\n",
              "      }\n",
              "    </script>\n",
              "  </div>\n",
              "\n",
              "\n",
              "<div id=\"df-27f73b93-e98d-4a5f-b598-2652b96757cc\">\n",
              "  <button class=\"colab-df-quickchart\" onclick=\"quickchart('df-27f73b93-e98d-4a5f-b598-2652b96757cc')\"\n",
              "            title=\"Suggest charts\"\n",
              "            style=\"display:none;\">\n",
              "\n",
              "<svg xmlns=\"http://www.w3.org/2000/svg\" height=\"24px\"viewBox=\"0 0 24 24\"\n",
              "     width=\"24px\">\n",
              "    <g>\n",
              "        <path d=\"M19 3H5c-1.1 0-2 .9-2 2v14c0 1.1.9 2 2 2h14c1.1 0 2-.9 2-2V5c0-1.1-.9-2-2-2zM9 17H7v-7h2v7zm4 0h-2V7h2v10zm4 0h-2v-4h2v4z\"/>\n",
              "    </g>\n",
              "</svg>\n",
              "  </button>\n",
              "\n",
              "<style>\n",
              "  .colab-df-quickchart {\n",
              "      --bg-color: #E8F0FE;\n",
              "      --fill-color: #1967D2;\n",
              "      --hover-bg-color: #E2EBFA;\n",
              "      --hover-fill-color: #174EA6;\n",
              "      --disabled-fill-color: #AAA;\n",
              "      --disabled-bg-color: #DDD;\n",
              "  }\n",
              "\n",
              "  [theme=dark] .colab-df-quickchart {\n",
              "      --bg-color: #3B4455;\n",
              "      --fill-color: #D2E3FC;\n",
              "      --hover-bg-color: #434B5C;\n",
              "      --hover-fill-color: #FFFFFF;\n",
              "      --disabled-bg-color: #3B4455;\n",
              "      --disabled-fill-color: #666;\n",
              "  }\n",
              "\n",
              "  .colab-df-quickchart {\n",
              "    background-color: var(--bg-color);\n",
              "    border: none;\n",
              "    border-radius: 50%;\n",
              "    cursor: pointer;\n",
              "    display: none;\n",
              "    fill: var(--fill-color);\n",
              "    height: 32px;\n",
              "    padding: 0;\n",
              "    width: 32px;\n",
              "  }\n",
              "\n",
              "  .colab-df-quickchart:hover {\n",
              "    background-color: var(--hover-bg-color);\n",
              "    box-shadow: 0 1px 2px rgba(60, 64, 67, 0.3), 0 1px 3px 1px rgba(60, 64, 67, 0.15);\n",
              "    fill: var(--button-hover-fill-color);\n",
              "  }\n",
              "\n",
              "  .colab-df-quickchart-complete:disabled,\n",
              "  .colab-df-quickchart-complete:disabled:hover {\n",
              "    background-color: var(--disabled-bg-color);\n",
              "    fill: var(--disabled-fill-color);\n",
              "    box-shadow: none;\n",
              "  }\n",
              "\n",
              "  .colab-df-spinner {\n",
              "    border: 2px solid var(--fill-color);\n",
              "    border-color: transparent;\n",
              "    border-bottom-color: var(--fill-color);\n",
              "    animation:\n",
              "      spin 1s steps(1) infinite;\n",
              "  }\n",
              "\n",
              "  @keyframes spin {\n",
              "    0% {\n",
              "      border-color: transparent;\n",
              "      border-bottom-color: var(--fill-color);\n",
              "      border-left-color: var(--fill-color);\n",
              "    }\n",
              "    20% {\n",
              "      border-color: transparent;\n",
              "      border-left-color: var(--fill-color);\n",
              "      border-top-color: var(--fill-color);\n",
              "    }\n",
              "    30% {\n",
              "      border-color: transparent;\n",
              "      border-left-color: var(--fill-color);\n",
              "      border-top-color: var(--fill-color);\n",
              "      border-right-color: var(--fill-color);\n",
              "    }\n",
              "    40% {\n",
              "      border-color: transparent;\n",
              "      border-right-color: var(--fill-color);\n",
              "      border-top-color: var(--fill-color);\n",
              "    }\n",
              "    60% {\n",
              "      border-color: transparent;\n",
              "      border-right-color: var(--fill-color);\n",
              "    }\n",
              "    80% {\n",
              "      border-color: transparent;\n",
              "      border-right-color: var(--fill-color);\n",
              "      border-bottom-color: var(--fill-color);\n",
              "    }\n",
              "    90% {\n",
              "      border-color: transparent;\n",
              "      border-bottom-color: var(--fill-color);\n",
              "    }\n",
              "  }\n",
              "</style>\n",
              "\n",
              "  <script>\n",
              "    async function quickchart(key) {\n",
              "      const quickchartButtonEl =\n",
              "        document.querySelector('#' + key + ' button');\n",
              "      quickchartButtonEl.disabled = true;  // To prevent multiple clicks.\n",
              "      quickchartButtonEl.classList.add('colab-df-spinner');\n",
              "      try {\n",
              "        const charts = await google.colab.kernel.invokeFunction(\n",
              "            'suggestCharts', [key], {});\n",
              "      } catch (error) {\n",
              "        console.error('Error during call to suggestCharts:', error);\n",
              "      }\n",
              "      quickchartButtonEl.classList.remove('colab-df-spinner');\n",
              "      quickchartButtonEl.classList.add('colab-df-quickchart-complete');\n",
              "    }\n",
              "    (() => {\n",
              "      let quickchartButtonEl =\n",
              "        document.querySelector('#df-27f73b93-e98d-4a5f-b598-2652b96757cc button');\n",
              "      quickchartButtonEl.style.display =\n",
              "        google.colab.kernel.accessAllowed ? 'block' : 'none';\n",
              "    })();\n",
              "  </script>\n",
              "</div>\n",
              "    </div>\n",
              "  </div>\n"
            ],
            "application/vnd.google.colaboratory.intrinsic+json": {
              "type": "dataframe",
              "variable_name": "submission",
              "summary": "{\n  \"name\": \"submission\",\n  \"rows\": 10000,\n  \"fields\": [\n    {\n      \"column\": \"id\",\n      \"properties\": {\n        \"dtype\": \"number\",\n        \"std\": 2886,\n        \"min\": 15000,\n        \"max\": 24999,\n        \"num_unique_values\": 10000,\n        \"samples\": [\n          21252,\n          19684,\n          16731\n        ],\n        \"semantic_type\": \"\",\n        \"description\": \"\"\n      }\n    },\n    {\n      \"column\": \"Exited\",\n      \"properties\": {\n        \"dtype\": \"number\",\n        \"std\": 0.2809701950634581,\n        \"min\": 0.02086160108548168,\n        \"max\": 1.0,\n        \"num_unique_values\": 10,\n        \"samples\": [\n          0.8596491228070176,\n          0.02086160108548168,\n          0.2767527675276753\n        ],\n        \"semantic_type\": \"\",\n        \"description\": \"\"\n      }\n    }\n  ]\n}"
            }
          },
          "metadata": {},
          "execution_count": 52
        }
      ]
    },
    {
      "cell_type": "code",
      "source": [
        "submission.to_csv('submission_tree_gs.csv', index=False)"
      ],
      "metadata": {
        "id": "zwo3g3Tr9bLE"
      },
      "execution_count": 53,
      "outputs": []
    },
    {
      "cell_type": "markdown",
      "source": [
        "![submission_tree_gs.jpg](data:image/jpeg;base64,/9j/4AAQSkZJRgABAQEAYABgAAD/2wBDAAMCAgMCAgMDAwMEAwMEBQgFBQQEBQoHBwYIDAoMDAsKCwsNDhIQDQ4RDgsLEBYQERMUFRUVDA8XGBYUGBIUFRT/2wBDAQMEBAUEBQkFBQkUDQsNFBQUFBQUFBQUFBQUFBQUFBQUFBQUFBQUFBQUFBQUFBQUFBQUFBQUFBQUFBQUFBQUFBT/wAARCABFAvUDASIAAhEBAxEB/8QAHwAAAQUBAQEBAQEAAAAAAAAAAAECAwQFBgcICQoL/8QAtRAAAgEDAwIEAwUFBAQAAAF9AQIDAAQRBRIhMUEGE1FhByJxFDKBkaEII0KxwRVS0fAkM2JyggkKFhcYGRolJicoKSo0NTY3ODk6Q0RFRkdISUpTVFVWV1hZWmNkZWZnaGlqc3R1dnd4eXqDhIWGh4iJipKTlJWWl5iZmqKjpKWmp6ipqrKztLW2t7i5usLDxMXGx8jJytLT1NXW19jZ2uHi4+Tl5ufo6erx8vP09fb3+Pn6/8QAHwEAAwEBAQEBAQEBAQAAAAAAAAECAwQFBgcICQoL/8QAtREAAgECBAQDBAcFBAQAAQJ3AAECAxEEBSExBhJBUQdhcRMiMoEIFEKRobHBCSMzUvAVYnLRChYkNOEl8RcYGRomJygpKjU2Nzg5OkNERUZHSElKU1RVVldYWVpjZGVmZ2hpanN0dXZ3eHl6goOEhYaHiImKkpOUlZaXmJmaoqOkpaanqKmqsrO0tba3uLm6wsPExcbHyMnK0tPU1dbX2Nna4uPk5ebn6Onq8vP09fb3+Pn6/9oADAMBAAIRAxEAPwD9U6KKKACisbxF4z8P+D4Ul17XdN0SJ/uvqN3Hbq30LkZpPDfjbw74xjeTQNe0zXI4/vtpt5HcBfqUY4pXTdkTzRT5W9TaoooplBRRRQAUUUUAFFYmi+NNE8Ra5rmj6bqUN3qehyxw6jbR53WzyJvRW46lTnitugAoornNH+Iega94z1/wpY3zTa9oMdvLqNr5EiiFZ1LRHeVCtuCk/KTjHOKPIPM6Oiimu4jRnbhVGTSbtqwHUVznw++IWg/FLwnZeJvDN62o6LeGQQXLQSQl9jsjfJIqsMMrDkc4ro6ppp2YBRRTJpkt4nlldY40UszucBQOSSewpAPoqppOr2Ovabb6hpl7b6jYXC74bq0lWWKVfVXUkEe4NW6ACiiigAooooAKKKKACiiigAooooAKKKKACiiigAooooAKKKKACiiigAooooAKKKKACiiigAooooAKKKKACiiigAooooAKKKKACiiigAooooAKKKKACiiigAooooAKKKKACiiigAooooAKKKKACiiigAooooAKKKKACiiigAooooAKKKKACiiigAooooAKKKKACiiigAr58/aS+OHiDQde0f4bfDqGO78fa8MiZsEWEJz+8IPAOAxyeFCk4PFfQdfK37Pca+JP2qPjd4k1DdNfaXNHpttkFjHDudcKPpAnT1PrXNUvOcaV7J3bfkunzbS9Dixc5xpxjTdnOSjfte7b9bJ287F/wf8AsJeDzG2o/EG+1Lx54kugHu7q6vZY4t/fZsYOfTLMc46DpS+MP2D/AATJGt/4Du9S8CeIrUb7S7s72WVBJ2Lb2Lj0yjDGe/SvTfhl+0N4O+Ka6+unXj6fc6HLIt7a6ov2eWONCR5xVjwnHJOCp4YDjPiGpfELxd+1l8Rk0L4e6leeGvh3oV0kuoeJrfMct3KhDKsR/DKr/wACbstZSjRlyRpx1lqraWXe/l+eh586WAp0rqCm27LrJv139XfQ7T9nH42eI9Q8Tat8L/iTGkHjrRU3xXa4C6jAMfOMAAsAVOR94HOAVavoevlT9pi2/wCEV/aK+BniSycjU7nUDpVxJgBpYS8andgDtNJ+dfVddNGUp07y3TcX52tr8018zswrlCc8PJ35bWb3s1s/NO6v1CsXxs+qx+DddbQri1tNbFjP9gnvTiCO48tvLaT/AGQ20n2zW1VXVNLs9c02707ULWK9sLuJoLi2nQPHLGwKsjKeCCCQQfWqmnKLSPUg1GSbPjn4C+L/ABL4T+InhbQvHniH4h6b4q1/SrlpbHxJJaajo2sXSRiRnsLm3Y+RsG5gmACpUdcFsDw98WvFcv7BfgLxHP4r1JvE174ot7KbUnvX+1TIdXdGiL53EeUMbf7o9K+nfAX7Mnw3+GfiG01zQPD8kOpWUD21lLeajdXi2UT/AHkt0nldYQRx8gXgkdOKx1/Yx+DK6tfakvgi3S7vLxNQkZLy5VUnWVZQ8aCXbFl1UkRhQ2ACCOK6OZXjppeLfyk3ZLzTt8trGUl+7lFbv9YtfnZnh2keA9Q8efH79pdbT4i614Ej028027U6FcRwOZRp4KyzsysWiXafkBUHLZPAxk+D/iZ48+Omufs+2F74z1rwt/wlfhfVn1i40GRYZLh4HCrMgZCiO2zO7YdodtuOCPpLxp+yT8KPiDrGt6trvhX7VqetTJNqF1FqN3A9wVjEYUmOVcJsVQUGFJAJBIBrrYfg/wCDrXxJ4Y1230OG11LwzZSadpD28kkcdpbyKFaNYlYIRhQOVJGOMVnTslFS6JL7oSj+La+S9EKSlry9W3981L8k/m/VnxHN4m+JOk/AfX/iB/wtbxNdar4B8YyeH7OzmeH7Lf2sd9HATeqI908jLIfmLYG0YGck+sX/AI0+IGofF79p3RvDXiLyNQ0rRtIbQIdSuQLOxnltGZmQSfIhZuckY3Y3cV7nP+z94BufBet+EpNB3eH9a1N9Yv7P7ZcDzrtplmaTf5m5cyIrbVIXjGMcVZvPgf4G1LVPGOo3nh+G8uvF9vBaa59olkkS8ihTZEpRmKptU9UCnPOc80P3qbi97NfNxim7/wCJN/M0h7sm33/BTuv/ACXT8Nj5y+D/AIu8TeH/ABFr/hG58R+OtH8dXXhea9stH+JDW17ZS3iDH2q2vYWYeUrkBo+Bg5xxxV+A3jDxJ4S+IfhbQ/HviL4hab4p1/SrlpbHxJJaajour3KRiRnsLm3Y+RsG5gmACpUdcFvoDwb+zJ8NfAtxqFxpvhz7RPfWB0qeTVr651FvsZzm2U3MkmyI55RcA8ZzimeBf2Yfhr8OdettZ0Lw9JFqFpbyWtnJealdXi2UL8Oluk0rrCCOP3YXgkdOKcnzX801/wClWt9677aLREpWjbz/APkd/uf376s+Ufg78SvHHxU8E/AHwPfeOde0dPFo1681bxDaXI/tK6FpcSCK3jnkDFOMZIGdqgDAzUvxF+K3j3wR8PPix4StPG+qanceC/FuiWWl+Jp5B9ta3uWjd7ed0CiUpkqx6sGINfVFx+y78Mbr4eaP4Ifwwq+HdHuHu9NiS9uVns5mkaRniuBJ5yks7Hh++OnFS2/7Mvwztfh6/giLwvGnhuS+TU5rZbqcST3SuHWaSbzPNkfcq8sxyAB0GK05oupzNaXv6+/GXyainG346sVS8lLl63t5XUl+bT/DojzjwDF4o+GP7WR8EXPjzX/GXh7W/C02uyR+IpIpZLe7S6SPMLRxoI4yrH92Bgflj2n4t6D/AMJP8M/E2m/2jqGk+dYS/wCmaXP5NxHtXd8r4OM4weOhIqt4w+Fdl4i1ybxPpl1L4f8AHC6W+kWfiKFfPe0geRZGAgkJhc7lByyE+9YPgv4X+P8AQ9fiuvEnxe1Hxjo+yRJ9HvNB062in3KQMvDErjBOcA84weK5ZxdWl7J6Oz19XK33KyNoyVOp7RbXWnolf73dnyF4dj8R/Dn9jj4DT+F/G/iDT7/xP4s0iCSaa7MqWsUolVoIkwB5GVVjEcgkc16B8RJPGem/GDRfg5pviH4l69o2neHZNeuL7QtU0+HW9Qmlu3UGW5uGhXyYh8oSMZ+ZQRgV71pH7K/wv0HQbLRLHw00GkWOtxeIrWzGo3Zjt76POyRAZflUZP7sfJz92t34lfBHwZ8W59NufE2kvc32ml/sd/Z3k9ldQBxh1WaB0faw6rnB9K6ZzUpOXeTfy5Ukvk9fu67ZRXLBQ7RS+fM2381p5fn8seJvih8YdN+HPw98H61/b1preveKrzR5tT0m403+2LnToY2kiUSCY20Vy4wrNvBBiYjJPPsf7MrfELS/EHjHQfFMXiKTwxa/ZptEuPF9/YXWrRl1bz4ZntZpNyghWRnwcMRzgV29x+zn8OLj4Z2vw/bwraL4TtZFnt7KN5EeKYMWEyzBhKJcknzA245OTyayU/Z2tPB3h67sfhjrt18OtTv71bzUdaSFNWvL7CsoSWS981mHzAjJ4wcYycwpWcut/wDKK+Wqb/TVi5bpJaf8O3+Vl+uiMj9sb4ga/wCA/hbpqeHNUPh+913X7DQ5dcVFY6bDPJiScbuAQBtBPTdng8jzvTV8V/DX9qjSfANn8SNa8TaYPBF/qUMPia9Ezx3PnKqSXDIqh1BBKllLAFxkjAHoPiT4K/EHUvh34n0XVfGul/FSXUo4Ug0rxrolvbWACvucFrNEcMw+6/zbGVSBXG/A79lS58K/FpvF2peEfDHgrQ7fQZtFi8P6Pfzao9400gaWa5nmiQsNqhApDccZAAByUW7q/f8AGDSXyeqtfV7dS5NWTttb/wBKTb+a01stDlPgT4t8WeD/AIleCNP+I/iP4gad4j8QpPFNHq8lnqXhzWp9pdRZywMfsxA+ZQAuQADnv6z+1l4613QtM8AeHfDuuS+Gz4w8U22gXmvWoQzWcDhy4iLAqsrFAoYg4ycc4rpvBP7Lfwy+HviSw13Q/DjQahpyyrp/2nUbq6hsBJ9/7PDLK0cOenyKOCQOOKuyfs5/DmfwRrfhCXwvbzeHtZ1CXVb2zkmlYvdyMGeZXL742yBgoy7e2K1bT5brZ/fqnb5q/wCCt1J1Tdnuvu0evydv89jy7xJ4Z8c/DvwB8TPDngj4wf8ACVeKI7G3uNJsfFN3bPqelM7YcyXDEZWVQ3l+agCsB8xGTXJ/DG81nWr3x38Mm8XfEvw54yvPDRu7LTPG0sM1xbz5KfbbS/t2O6PzCilOBkHAxkD3PQP2X/hh4b8H+IPDFr4Tt5tI8QFTqqX0813NebcbN80rtIduMr83ynlcHmtH4c/APwN8KdWvNV8O6RNFq13AlrLqF/qFzf3HkqcrEslxI7KgOPlUgcDjgVNlLmUnureez/J+t99GO9krLVO/4r/J6ab9bs+e/gz8ZvEnx78b/BzSYNYvrI+H9CuNV8aQ28zRme9jc2cdvPg95o5pNh6gA19jVxfgX4M+DPhr4i8T674a0OLStV8TXIvNWuI5ZHNzKCx3YZiEGXc4QAZY8V2lXKXMk+urfq3f7lsvJEqPK3bbZei7+b1b9QoooqCgooooAKKKKACiiigAooooAKKKKACiiigAooooAKKKKACiiigAooooAKKKKACiiigAooooAKKKKACiiigAooooAKKKKACiivDv2rPjXr3wl8O+F9M8H2tndeM/F+tQaFpTagrNb27SH5ppFUgkKMcerAnIGCr7JbtpfNuy/Effy1+7U9xor5n+FvxS+I3gf9oZfg/8TdX03xa+p6Kda0bxHYWAsXco5WWCWIErkbWIK84UZzu+W3+1X8YfF3gLxV8PvC+gaxpngXSvE09xFf8AjrWrVbi20wxx7449rssYeQ5A3tg4wO5FP7Ntebb8V19H+nQS+0npy7/cn+TR9G0V8WaZ+2B428L/ALOnxU8XarDpfjG78I6quk6P4m0+BodP1oPIkYuCoYghGfLeW208AH+Kt3QfjF8TPhF8Zfhr4U+I3i3w9440r4hRSm3m0uwFnLplwqKyKhViJoGLhQ7AMSc8YwXGPNJRXW1vNtcyXe9v8tyW+WLk+l//ACV2b+8+tqK+N/21v2tPF/wwur3RfhglnPf+HLaHUvE+o3UImisoppEit7cA8ea5k346hVB7nGv+2h8cvi78HfAsHiTwbY6HZ+HbWG0a91fUSZrieeaTZ5MMAG1Qvyszued4C8g0oLnUWur5V6/5Gji0+Xyv91v0aZ9Y0V81fGT4qeP9a+PXhj4P+A9b0vwZd3+hya9eeIdSsReyFA5RYbeFmVWbKktn+HJGNvO3+yj8cta+K1v438O+KpNNu/FPgvWX0i81DSAVtr5ASI51Uk7SdjgrnGV4xnAIrmV/V/JPlb+/Qhu1n3t+K5l+Gp71RRRSGFFFFABRRRQAUUUUAQ3l5b6fay3N1PHbW8S7pJpnCIg9STwBXOf8LU8Ff9DhoP8A4M4P/iq5f9pwkfA/xLg4/wCPb/0pirqP+FV+Cv8AoT9B/wDBZB/8TT0sIktviZ4QvLiOC38V6JPPIwVI49RhZmJ6AANya6WvEP2iPAPhjQvg7r99pvhzSdPvYfs5jubWxiikTNxEDhlUEZBI47Gvb6ACiiikMKKKKACiiigAr5F8Tasv7MX7V114k1QND4F8eRCO4vOSlrdLjLNx2bJ/3ZWP8NfXVYHjjwJoXxI8N3Wg+ItPi1LTLgfNFJwVYdGVhyrDsRzWFSEuaNSn8UfxT0a+f5nNiKLr0+VOzTTT7Nbfqn5M8T+OH7Ivh/43a9p3ifRtW/sG7uiq6ldWGGTUbVgMkYOC5GMNyCOoOBXtfhDwhoPwx8JWujaNaw6Vo2nxHAyAAAMs7sepPJLGvnKP9l34rfC0SW/wo+K72ujsx8rSvEEQkjt1znCkpIucnqsa/jTZP2Yfi58UVS1+KnxZabRg373TPD0QjS4X0YiOJfT70b1jC8OZUqdm+9rff266eZ5sZSp1XUeHftHu01Z/O+l+ul+5S03WE/ag/au0vVdIBufAvgBC4vufLubsnKlPX5gpH+zET/EK+vK53wD8P9B+GPhm20Dw3p8enabb8hE5Z2PV3Y8sx7k/yAroq6acPZwUL33b8293+nokd+HozhzVKvxyd3bZWVkl5Jf5hRRXN/EnxFc+Efh74k1uzRXutP0+e6iEgyoZIywLD0GMn2Bq3sdqV3Y6SivP9P8AC/8Awht9pmpnxnqdyZg4vYNVuvtCam3ku+YY2YLA42l8QgLtVwU6MuPb/FrW4NE0/V9Q0yxWz1rR7jVdOjt5XMkBjhEyRTZ4fchyWXAUgrg5DUSagnJ9N/x/ydhxXM0l12PWKK8Y1D4teLtMg1qeXStFaPSdGtfEMwSebLwSmYG3X5fvjyJD5h4OVGwZJGrrnxP17S7zxffR6fpz+H/DF5DBc75n+03ET28E0jJgbVZBNkA534x8n3jfK0+V/wBdPzf9Inpf5/r+TR6lRXil58VNQ8M6hqGmxLc317e67exwytY3eoLa28McJOIbdGkI3SKAPlUbiS3AVr+lePPFviPxZ4FdLaLQtO1Cxv5dR0zULSZZy8EsSbk8xUdQQxZNyqSHyy9AITTipdGk/vVyuV3a9fwdv0PXKK8i+G/xq1Hx5rWk7dBvE0bV4ZJ4Z/7KvoRaKF3xGWeWFYZBIveNuGIA8wHePUF1SN9Yl04Q3IljgW4Mxt3EBDMyhRLjaWG0kqDkAgkYIqrbCas2n0LtFeb6ha6jH8bNMt59d1CfTNU0PUmOmpJ5MEHly2KqybAG3/vZDvJLDd8u0cVzem2tz4Z17xhrvhtvEGuafodmdOj0681m9v0vbwlZJmVZXkP7pdijywWJaZcEgCl0TfZv7m1+dl8yuXt/X9a/JHtlFcr8O/Fkvi7Sbqae4sp5ra5MDfZY5oHX5FYCa3mUSQSfN9xs8bWz82Bw9v8AHaW11y6ivrWC700WF/qEdxptvdeUEtgrYW5liWK4LqSf3ZGwjHzD5qUmo79rijFydl6HsVFeS3/xY8QeEw03iHStOkhPh+611U02dyytE0IFuS4AP+uH7zjP91cc9V4b8Ta1/wAJRN4f8QW1it59hXUIbjTncxlS5R42D85U7cN0YNnC4xVWd0u9/wAL3/JkXVr/ANa2t+a/pM7CiqVjqkd/dX8CQ3MbWcohdp7d40kJRXzGzACRcMBuXIyGHUGvFNW1aafwhrXjm/8AEniHTL211G/hgOmJJcWmmxW08seJrRCElXbCWdpMtlztZPl2otRb2PeKK8j8VePdWvdF+Jj/AGaCPRvD1s0UbwXM8F5PIbKG5BDoVMQHm4yrbj/s45g8deOPEt5YapNpMdrZaTpuu6fpby/aHW7lzcW3myKQNoX94U2HJYbjuHCl2d0u+vy0/wA194raJ9/+H/I9jorxrxA2qaH4yvdT1+48SWmn/wBoQmw1rSrxZNNtrcmNfIuLQNnLPvDSNE+0Pu81MDbY0/42ahqvjL7FZ6FeXOkrrEuju0WlXzMnlyNE9ybkQ/Z9gkUgpv4Ubt2793Sj71u7/wCB/n/S1G1ZN9F/wf8AJ/8AD6HrtFeQ6f8AGq9m8STae9ta3VvNZX13a3FlBd/Z1+z7SoFzJEsVxvDZPlkbCMfMPmrQ03x34s1hfD1hDZ6PDrOradJrDM7ytb29uvkhYuzO5aYDd8oABODwCovm2/rf9E38hNcu/wDW3+a+89OorxfxH468W+Gtf8XaqLayNro3hux1W90ue7kkVWBu2mjgYKAGZY8eYV52Jlefl17fTbj4keJvFrXWv6xpKaLex2Nhb6XeNbCAm2hm8+RV4mZjN92XfHtRfl5Ylu6v5f1+v9Idu/X/AIf9f6Z6jRXk1942n8AX66rqesf2/pWo+HftMM9sAIJ7y2UsxgUMwX7QkgZVUkfuTyetdRp0uo+CPhYlxrM91qer2entcXkkSPcSSXBUu4RRklQ5IVeygDoKU3yRcu3/AAf8vy7hGLlJR7/8D/P8+x2NFeRafJrHgP4bab4lTUpNcn/sexiezvL6SeKa6lmUyT+eWfIYykAgEBQuPlAFSL8TPFFlq1/Df2GkPZ6Xr1pol3JbySiSf7SsDJLGpGE2faYwVJbdhsFcDN8r5/Z9f+Dyr79Pv9SY+9HnW2/4X/4Hqes0V5ZZ/Fy8uPiFY6F5Nrc2eoXl1YwXFlb3bxQtDHK4Zrlo1hkY+UytEjbkPdsEjS+GvxIvfH2ravZvZ29r/YTGw1IpLvzfhiGWL/pkFAYMeT5gXhkcVK1t9/8AX9dRtON7/wBf1+h6DRXJ+K/E+p2fiTRPD2iwWjahqMNzdtcXxbyoYYDEr4VeWZmnjAGQACzc42ny3QfjHrml+HdE0+S1mvNcuzql3cTfY77U0iWK+kjSEfZomfBztDsFCqn3WPy0vP8Arr/kws/6+49+oryiP4neK9amkGl6DZ2DW/h6z124tNZklinEkzTg2pXaCh/cH94w+U9UOflzZPHfiPX7zxnd2t9bw+Gh4RtdW0+FYmS6heeK5YPvB+9+7GfTC4wc5VR+zjKTXw7/AI/nZlRjzSjHv/wP/kke00V5XomreJ/EcEHhvUrq3029utKtdVt9S055HdFWVBLE+4qWJ4G8EZDtlRj5vSNPk1CSS8F9b20CLOVtTbztKZIdq4ZwUXY2d3yjcAAPmOcDSUeVtev4Oz/EyjLmV/T8VdfgXKK8a8H2uo+FvG9nJ4og1g3mt6lfxWN2PENxc2eS080UTWhfy4wLdDtKq2DGc7TjPqHirSbrXvDmo6dY6jJpF5cwNFFfQgl4GI4cYIOR9RS6JlS91tGrRXlesfEvxLb69qFvYabpctla69BoS/aJ5FlYywRSCY4UjCNLjZ/EP4lxzHcfFfV4NFiWSPTYdYj1C8sp0hgu715BbvtMkFrBG0rqcpuyQI9/V+MxzK1/66P/ANuX3lcrvb+uv/yL+49Yorx+6+OF9HoXgzUI9Kt0fxhaQx6bBNMV8m/fafLlJAPlbWLbgoP7srjc6CvS/E00tt4X1aVJCk8dnMyyR5UhghII9OaKkvZxlJ9L/gOMeaSj3/r+vQ1aK8JX446tptvbWllo19rb6bp9i12ItMv7ua9llgSR1SWGJ442COrZkb5mOCEHzno9f+L11ofjm30sW9teadJqdvpZ+yW91K8by7RuluBF5ELKzr+5ZiSpBDAkLWrjafIu9vxt+bRkn7nO9rX+Vr/kep0V5n8E4dbuF8V6nrl+L64uNau4IxHPcNHEkM8kaqsckjJGAAP9Wq56tuPNXPG3jbxDpWv3+naJZabOLHRjq7tfSSKZCHdfJXaPl3BPvnO3+62eMnJRSb6q/wCF39yua8jcpRXR2/Hl/M9AoryrVPi7qf8AZuua7pem2r6F4fsob6/S6kYXE4eBbh0ix8qlInUgtnexK/KBuql468deJL+x1SfSI7Wy0jT9e0/THl891u5c3Ft5sikDaq/vCmw8sNx3DhTdnzcvX/gpfm0StUpdHt+f5HsVFeRw/GnUbzxpJYWWhXl3pcernSH8nSr524fy3uftIh+zhFfOUL/dBYsG+SrFn401rxlqmveGLh4fC95cQ31vaLNFcQ3kWxtkdxCzKI7lSrCQmJh5eVGWJJEr3kpLr/lf9UVy2lyy0/q36M9UorP0r+0o5LmG9jt/s8RRLa4jnZ5Jl2LuaRSgCHfuAAZsjByCcDyTxHrmu+B9Y+Kt2uu3mpS2fhi31S0S7C+RaStJfgbIlAUKBFHnOWbZyTVegoxclf0/Fpfqe10V4f4o0i+8Ntrfh2y8R6xdJeeGLnVY7m91aRZba9t3QLMJiwMaOZAWTIiHlYChSwPaeLvGl3a/BfUfE2nmSzvf7JNzDJd25RoHKcO8bDI2k7iCO3el0uv61a/NP8Bdv66J/k1+J3lFed+FbOfwj8RJvD0Wralq2nXWkjUCNUunuZIZ1l8tmDuSwEgYHYDtUxHaFyQfRKOia6/o2vzRPVrt+qT/ACYUUUUDCiiigArwT9rj4P8Aib4k6D4Q1/wSlvc+L/BeuQ67YafdyiKO+CffgLk4UtxgnjjGRnI97opdU1umn807r8R90+t19+h8oeDvBPxV8f8Ax6u/jH4w8DW/hCTw94dm0rw94XfWIbqa8uX3MzyTxZRFJYpyOMg44yc34zfDX4n/ABK174T+PNc+G2n+L7PS7SdNd+GVxq0BhiupAyi4Vpf3ExVSOGzjAAJyWH2DRT/lt02/8mv9/M/TS1hd79d/uSX3WXrre58c/CX4A/EfSfh78ZRJ4X8N+GbbxbMs2g/DnVpRf6XYBQwkWTyGVF84Y/1ZwpAOOMVy/wADf2V/EF18WvBGtap8INJ+D3h3we8t9JFDri6vc6xesmyMrJud44YzllRmwMnGckj7uoqoy5ZKS6JL7lZfdvr113FJc0XF9W39+/l+u/c+AvjR+wz8W4fh58Rbfwp8TP8AhLf+Eq1RdVvPDMmgWltLfSGdGAa+lnLKI1AIGQPkIAG416z+058EviH4+/Y/i8DWt1/wnnjhJbNprry7fTvtOycOzbC4jTamBgNztz1NfUlFKD9nGMVsnFr/ALdtZemn9aF39/n6+9/5NufL37XHwm8QeO9R8IX9p8J9B+LWkacjrPps2qvpGq28p5V4rwSKpiOBujKnJA65yu5+x38CtW+Eeh+LNa8RaTpvh7XvFmp/bn0LSWVrfS7ZF2QWqsvysUBbJXg579a+haKIvkTt1/Vp/ml5mbipct+n6K369AooopFBRRRQAUUUUAFFFFAHl37TgLfA/wAS4Gf+Pb/0pirqP+FqeCv+hw0H/wAGcH/xVdHeWdvqFrLbXUEdzbSrtkhmQOjj0IPBFc5/wqvwV/0J+g/+CyD/AOJp6WEecftEePvDGu/B3X7HTfEek6hezfZxHbWt9FLI+LiInCqxJwATx2Fe4Vzdt8NPCFncRz2/hTRIJ42DJJHp0KspHQghcg10lABRRRSGFFFFABRRRQAUUUUAFFFFABRRRQAUyaGO4heKVFlikUq6OMqwIwQR3FPoo30YHH+HPhN4Z8K6lDfWFpdGa3jaK1S81G5uobNGGCtvFLIyQgj5cRqvy/L04qPS/g74T0Zrn7Np85jmtZbFYZ7+4mit7eTG+K3R5CsCHAG2IKMKo6KAO0opPXcabWxzt58P9AvodRinsN8eoadHpN0POkHmWsfmbI+G4x50nzDDHdyeBjno/gvo914t1/XNVNxfNqWoQX0dql5cRW4EVvBGiywrII5sPCXBdTjcPSvQ6Kq7vzdQTsrL+v6sctq3wz8P6xG6zW1zBI149+Lmxv7i1nSZ12uyyxOrqGUAFQQpHUVNF8PdCt10IRW08TaKWaykS8nEi7vviRw+6UMQCwkLBiATkjNdHRS20X9W2+4X9ffv95y2g/DPw/4a1j+0tPgu45lEixQyajcS21uHOX8mB5DFFnH8CrgZA4JFdTRRR5Bu7soTaHY3GuWmryQbtRtLea1hm3sNkcrRtIuM4OTDHyRkbeMZOaA8D6KvheXw8to0elSby0aTyLJudzIz+aG3hy5Lbw27dznNb1FHSw7sxfC/g/TPB9rcQaclwTcy+dPPeXc13PM+0LueWVmdsKqqMngAAYFYml/CHw1od99usbSf7VHDNBbJe39zdW9tHKBvjjgklKJGcL8iBRhQBgAY7Wik1zbgm1seS+DPgl/Zutz3mtx6dPaHSptH+wwPczxTQytGXBFxI/lRYjAWBMqoZuTnjt/Cfw+0XwXNcz6bHdvc3CJFJc6hf3F7N5aZ2RiSd3YICzEKCBlicZJro6Kq7/r1b/NsX9f19yCuM1X4P+Fda1ifUbqxuS9xKs9zaxahcxWd1IuMPNbJIIZW+Vcl0Odq5zgY7Oil1uHkYV14J0W+s/EFrPZb4NfYtqSea488mFITyGyv7uNF+XHTPUk1l6p8JPC+s61Lql3Y3D3E00NzLCl/cR20s0RUxyvAsgiaRfLTDlS3yLzwMdjRQO7OOu/hL4Zvdck1WW2vPNluFvJbWPUrlLKaZSCJHtVkELtlVOWQ5KgnJANTr8MvD6eJP7cWC7S8883RhXULgWhmIIMpthJ5JfkndsznnrzXVUULTYLt3v1OK0z4O+FdJvvtdvZ3bSLDNbRRz6ndTRW8UoAkjhjeQpEpwPlQADAxjAxd1v4a6Br9npdtcQXVuNMiMFpPp+oXFnPFEVVWjE0MiuUIRcqWIJVSeQCOoopWX9f15sLu9zmf+Fa+Gv7L1DTV0tI7G/0yPRriCOR0VrRFkVIhhhtAEsgyuD83XgYr+JPhT4b8Vag17fW15HcyQrbztYalc2YuYlztSdYZEEyjJAEgYYZh0JB66im/e1YXf9f15IwNc8B+H/EljpFlqGlwzWmk3UN5YwrmNLeWH/VlQpHCjjb0xwRitq5t0ureWCTmORCjY9CMGpaKUlzJp9QWlmuhy+ieBYLPwHp3hbVJV1a0soordJAjQF44WUw7trfeARMkEBiCcAHaLc/gjRbmS+eSy3NfX8GqXB81xvuYREIn+9xtEEXAwDt5Byc7tFU5Ny5nv/T/AD1EvdVlscdY/CXwzpuvRaxBa3gu4Lia6gRtSuXgt5ZQ4laKEyGOMsJXztUctnrSN8LdMsbJIvD15feFLxLZLNdQ0to5JjCshk2sLhJUkJZnO90Z8u5DAsSeyopDucS3wsttS06C38Qa9rniO7tp2nttUmuUsLyAMoVo0ksUt8IQOQc5zyThcPn+EHhaTTNPsIbO606Gw84Wz6ZqVzZzIsr75U82GRXKM2GKliuQpxwMdnRQF2eb6h8DdC1fxNcX139oXTDo9ppEOn2d7cWoEcLzsyyGKRfNRhMo2PkfIc5zXT3ngDQr7UJ72SzdJp9P/sqZYbiWKKS2+bEbRowQ7d77WI3LubaRk10NFD97Rj5ne/p+FrfkjMtfDmnWeoQX0NvsuoLQWMcm9jthBB2YJweQOTz71Np+k2+lyXrweduvJzcy+bPJKN5VV+UMx2LhR8q4XqcZJq7RTv8A16u/56+pFl/X3floclpnwt8O6LrjaxY2s8d8rTPAs17cTW1s8uTI8Nu8hiiLZOTGqk7mH8RzteGdIl8P+HdM0ye+m1Oezto4JL24JMk7KoBkYkk5YgnqetadFLpYZhv4L0aS4nmazzJPqEeqSN5r83KIiJJ97ssaDb046cms3VPhX4c1aRJZLa8tp0uJ7kXFhqVzaS7pmVpgXikVijlFJQnblVOOBXXUUrL+vl/kvuXYd3/Xz/zf3vucgPhL4UGmW+n/ANkj7Jb6cNKt4zcS5gtwyuFjO7KNuRDvUh8xoc/KuGSeANSuNWmuLnxz4hudLmZ9+iSRaeLUxsCPK3raifaAcZ83dxyxrsqKb13C7OOvvhL4Y1C6tp3tLuIwQw25itdSuYIp44v9Ws8aSBZgo4/eBuMg8HFLd/CfwzfeIP7Zmtbtrr7XHf8AlDUrlbYXMZUrMLcSeVv+Vcttyec5yc9hRTu783X+n+ZPTl6HJap8P5JLdYNB8S6v4QQ3M93P/ZKWkv2iSV97l/tUE2PmLEBNo+Y9sYvWXg20ijL39xc6zqElj/Z1xqF4VSW4h3M2GWJUjByx5RFrfoqbK1mv6tb8tCru9/63v+epxepfB/wpq1xby3FhcbYoIbZoIb+4iguIov8AVpPEsgScL0/ehuCR04qTVfhL4X1rW5dVu7G4e4mmiuZYUv7iO2lmiKmOV4FkETSLsTDlS3yLzwMdhRVXd7i2Vkcs3wz8Pt4kOufZ7tLwzi6aGPULhbR5goAla2Enks+APmKZyAc5ANLo/wANdA0LXm1i1guzeZlaNbjULieGAyNukMMLyGOLceuxV6kdCa6iiktNg33KVnpNvYXt/dw+d5186yTeZPI67lQINqsxVBhRwoAJyTySagl8M6XcalqF/LZpNc6haR2F0ZCWWWBDIVQoTtxmaXtk7uc4GNSijpYd2jgZvg3o9p4Z1vStFefT5dXtRYT3t7cT38qW2CvlRmaUlFCu+1Qdis2dp5B7ObS7S60uTTbiBLixkhNvJBMoZXjK7SrA9QRwc1booet0wu9PL+v0RyGk/Cnw5olpdQWsN/8A6U0BluJtVu5rgrC2+KMTPKZFjU5xGGC/M3HzNnXi8J6fDexXSm886K6lvV3X05XzJEKNlS+0rgnCEbVPIAPNbFFPzF5BRRRSAKKKKACiiigAooooAKKKKACiiigAooooAKKKKACiiigAooooAKKKKACiiigAooooAKKKKACiiigAooooAKKKKACiiigAooooAKKKKACiiigAooooAKKKKACiiigAooooAKKKKACiiigAooooAKKKKACiiigAooooAKKKKACiiigAooooAKKKKACiiigAooooAKKKKACiiigAooooAKKKKACiiigAooooAKKKKACiiigAooooAKKKKACiiigAooooAKKKKACiiigAooooAKKKKACiiigAooooAKKKKACiiigAooooAKKKKACiiigAooooAKKKKACiiigAooooA//Z)"
      ],
      "metadata": {
        "id": "frZC_F8Q-NV4"
      }
    },
    {
      "cell_type": "code",
      "source": [
        "test = preprocess_new_data(new_data, scaler, encoder)"
      ],
      "metadata": {
        "id": "VZTEI6aK-c5x"
      },
      "execution_count": 54,
      "outputs": []
    },
    {
      "cell_type": "code",
      "source": [
        "probability = knn_best.predict_proba(test)[:,1]\n",
        "probability"
      ],
      "metadata": {
        "colab": {
          "base_uri": "https://localhost:8080/"
        },
        "outputId": "23617a85-c341-4195-b5a9-3c438a4dcc9b",
        "id": "bNgYyFY0-c5y"
      },
      "execution_count": 55,
      "outputs": [
        {
          "output_type": "execute_result",
          "data": {
            "text/plain": [
              "array([0.        , 0.        , 0.        , ..., 0.        , 0.        ,\n",
              "       0.22222222])"
            ]
          },
          "metadata": {},
          "execution_count": 55
        }
      ]
    },
    {
      "cell_type": "code",
      "source": [
        "test['Exited'] = probability"
      ],
      "metadata": {
        "id": "2FS4emwr-c50"
      },
      "execution_count": 56,
      "outputs": []
    },
    {
      "cell_type": "code",
      "source": [
        "submission = pd.read_csv('sample_submission.csv')\n",
        "\n",
        "submission[:5]"
      ],
      "metadata": {
        "colab": {
          "base_uri": "https://localhost:8080/",
          "height": 206
        },
        "outputId": "f684dc05-038a-4ca1-d66a-4f38d9f8f46f",
        "id": "_xTcQJ1T-c51"
      },
      "execution_count": 57,
      "outputs": [
        {
          "output_type": "execute_result",
          "data": {
            "text/plain": [
              "      id  Exited\n",
              "0  15000     0.5\n",
              "1  15001     0.5\n",
              "2  15002     0.5\n",
              "3  15003     0.5\n",
              "4  15004     0.5"
            ],
            "text/html": [
              "\n",
              "  <div id=\"df-33d5638b-c3b5-48de-b783-07c4ad9bb0d9\" class=\"colab-df-container\">\n",
              "    <div>\n",
              "<style scoped>\n",
              "    .dataframe tbody tr th:only-of-type {\n",
              "        vertical-align: middle;\n",
              "    }\n",
              "\n",
              "    .dataframe tbody tr th {\n",
              "        vertical-align: top;\n",
              "    }\n",
              "\n",
              "    .dataframe thead th {\n",
              "        text-align: right;\n",
              "    }\n",
              "</style>\n",
              "<table border=\"1\" class=\"dataframe\">\n",
              "  <thead>\n",
              "    <tr style=\"text-align: right;\">\n",
              "      <th></th>\n",
              "      <th>id</th>\n",
              "      <th>Exited</th>\n",
              "    </tr>\n",
              "  </thead>\n",
              "  <tbody>\n",
              "    <tr>\n",
              "      <th>0</th>\n",
              "      <td>15000</td>\n",
              "      <td>0.5</td>\n",
              "    </tr>\n",
              "    <tr>\n",
              "      <th>1</th>\n",
              "      <td>15001</td>\n",
              "      <td>0.5</td>\n",
              "    </tr>\n",
              "    <tr>\n",
              "      <th>2</th>\n",
              "      <td>15002</td>\n",
              "      <td>0.5</td>\n",
              "    </tr>\n",
              "    <tr>\n",
              "      <th>3</th>\n",
              "      <td>15003</td>\n",
              "      <td>0.5</td>\n",
              "    </tr>\n",
              "    <tr>\n",
              "      <th>4</th>\n",
              "      <td>15004</td>\n",
              "      <td>0.5</td>\n",
              "    </tr>\n",
              "  </tbody>\n",
              "</table>\n",
              "</div>\n",
              "    <div class=\"colab-df-buttons\">\n",
              "\n",
              "  <div class=\"colab-df-container\">\n",
              "    <button class=\"colab-df-convert\" onclick=\"convertToInteractive('df-33d5638b-c3b5-48de-b783-07c4ad9bb0d9')\"\n",
              "            title=\"Convert this dataframe to an interactive table.\"\n",
              "            style=\"display:none;\">\n",
              "\n",
              "  <svg xmlns=\"http://www.w3.org/2000/svg\" height=\"24px\" viewBox=\"0 -960 960 960\">\n",
              "    <path d=\"M120-120v-720h720v720H120Zm60-500h600v-160H180v160Zm220 220h160v-160H400v160Zm0 220h160v-160H400v160ZM180-400h160v-160H180v160Zm440 0h160v-160H620v160ZM180-180h160v-160H180v160Zm440 0h160v-160H620v160Z\"/>\n",
              "  </svg>\n",
              "    </button>\n",
              "\n",
              "  <style>\n",
              "    .colab-df-container {\n",
              "      display:flex;\n",
              "      gap: 12px;\n",
              "    }\n",
              "\n",
              "    .colab-df-convert {\n",
              "      background-color: #E8F0FE;\n",
              "      border: none;\n",
              "      border-radius: 50%;\n",
              "      cursor: pointer;\n",
              "      display: none;\n",
              "      fill: #1967D2;\n",
              "      height: 32px;\n",
              "      padding: 0 0 0 0;\n",
              "      width: 32px;\n",
              "    }\n",
              "\n",
              "    .colab-df-convert:hover {\n",
              "      background-color: #E2EBFA;\n",
              "      box-shadow: 0px 1px 2px rgba(60, 64, 67, 0.3), 0px 1px 3px 1px rgba(60, 64, 67, 0.15);\n",
              "      fill: #174EA6;\n",
              "    }\n",
              "\n",
              "    .colab-df-buttons div {\n",
              "      margin-bottom: 4px;\n",
              "    }\n",
              "\n",
              "    [theme=dark] .colab-df-convert {\n",
              "      background-color: #3B4455;\n",
              "      fill: #D2E3FC;\n",
              "    }\n",
              "\n",
              "    [theme=dark] .colab-df-convert:hover {\n",
              "      background-color: #434B5C;\n",
              "      box-shadow: 0px 1px 3px 1px rgba(0, 0, 0, 0.15);\n",
              "      filter: drop-shadow(0px 1px 2px rgba(0, 0, 0, 0.3));\n",
              "      fill: #FFFFFF;\n",
              "    }\n",
              "  </style>\n",
              "\n",
              "    <script>\n",
              "      const buttonEl =\n",
              "        document.querySelector('#df-33d5638b-c3b5-48de-b783-07c4ad9bb0d9 button.colab-df-convert');\n",
              "      buttonEl.style.display =\n",
              "        google.colab.kernel.accessAllowed ? 'block' : 'none';\n",
              "\n",
              "      async function convertToInteractive(key) {\n",
              "        const element = document.querySelector('#df-33d5638b-c3b5-48de-b783-07c4ad9bb0d9');\n",
              "        const dataTable =\n",
              "          await google.colab.kernel.invokeFunction('convertToInteractive',\n",
              "                                                    [key], {});\n",
              "        if (!dataTable) return;\n",
              "\n",
              "        const docLinkHtml = 'Like what you see? Visit the ' +\n",
              "          '<a target=\"_blank\" href=https://colab.research.google.com/notebooks/data_table.ipynb>data table notebook</a>'\n",
              "          + ' to learn more about interactive tables.';\n",
              "        element.innerHTML = '';\n",
              "        dataTable['output_type'] = 'display_data';\n",
              "        await google.colab.output.renderOutput(dataTable, element);\n",
              "        const docLink = document.createElement('div');\n",
              "        docLink.innerHTML = docLinkHtml;\n",
              "        element.appendChild(docLink);\n",
              "      }\n",
              "    </script>\n",
              "  </div>\n",
              "\n",
              "\n",
              "<div id=\"df-a518df6a-24f4-43ed-820e-38dae9e8bc11\">\n",
              "  <button class=\"colab-df-quickchart\" onclick=\"quickchart('df-a518df6a-24f4-43ed-820e-38dae9e8bc11')\"\n",
              "            title=\"Suggest charts\"\n",
              "            style=\"display:none;\">\n",
              "\n",
              "<svg xmlns=\"http://www.w3.org/2000/svg\" height=\"24px\"viewBox=\"0 0 24 24\"\n",
              "     width=\"24px\">\n",
              "    <g>\n",
              "        <path d=\"M19 3H5c-1.1 0-2 .9-2 2v14c0 1.1.9 2 2 2h14c1.1 0 2-.9 2-2V5c0-1.1-.9-2-2-2zM9 17H7v-7h2v7zm4 0h-2V7h2v10zm4 0h-2v-4h2v4z\"/>\n",
              "    </g>\n",
              "</svg>\n",
              "  </button>\n",
              "\n",
              "<style>\n",
              "  .colab-df-quickchart {\n",
              "      --bg-color: #E8F0FE;\n",
              "      --fill-color: #1967D2;\n",
              "      --hover-bg-color: #E2EBFA;\n",
              "      --hover-fill-color: #174EA6;\n",
              "      --disabled-fill-color: #AAA;\n",
              "      --disabled-bg-color: #DDD;\n",
              "  }\n",
              "\n",
              "  [theme=dark] .colab-df-quickchart {\n",
              "      --bg-color: #3B4455;\n",
              "      --fill-color: #D2E3FC;\n",
              "      --hover-bg-color: #434B5C;\n",
              "      --hover-fill-color: #FFFFFF;\n",
              "      --disabled-bg-color: #3B4455;\n",
              "      --disabled-fill-color: #666;\n",
              "  }\n",
              "\n",
              "  .colab-df-quickchart {\n",
              "    background-color: var(--bg-color);\n",
              "    border: none;\n",
              "    border-radius: 50%;\n",
              "    cursor: pointer;\n",
              "    display: none;\n",
              "    fill: var(--fill-color);\n",
              "    height: 32px;\n",
              "    padding: 0;\n",
              "    width: 32px;\n",
              "  }\n",
              "\n",
              "  .colab-df-quickchart:hover {\n",
              "    background-color: var(--hover-bg-color);\n",
              "    box-shadow: 0 1px 2px rgba(60, 64, 67, 0.3), 0 1px 3px 1px rgba(60, 64, 67, 0.15);\n",
              "    fill: var(--button-hover-fill-color);\n",
              "  }\n",
              "\n",
              "  .colab-df-quickchart-complete:disabled,\n",
              "  .colab-df-quickchart-complete:disabled:hover {\n",
              "    background-color: var(--disabled-bg-color);\n",
              "    fill: var(--disabled-fill-color);\n",
              "    box-shadow: none;\n",
              "  }\n",
              "\n",
              "  .colab-df-spinner {\n",
              "    border: 2px solid var(--fill-color);\n",
              "    border-color: transparent;\n",
              "    border-bottom-color: var(--fill-color);\n",
              "    animation:\n",
              "      spin 1s steps(1) infinite;\n",
              "  }\n",
              "\n",
              "  @keyframes spin {\n",
              "    0% {\n",
              "      border-color: transparent;\n",
              "      border-bottom-color: var(--fill-color);\n",
              "      border-left-color: var(--fill-color);\n",
              "    }\n",
              "    20% {\n",
              "      border-color: transparent;\n",
              "      border-left-color: var(--fill-color);\n",
              "      border-top-color: var(--fill-color);\n",
              "    }\n",
              "    30% {\n",
              "      border-color: transparent;\n",
              "      border-left-color: var(--fill-color);\n",
              "      border-top-color: var(--fill-color);\n",
              "      border-right-color: var(--fill-color);\n",
              "    }\n",
              "    40% {\n",
              "      border-color: transparent;\n",
              "      border-right-color: var(--fill-color);\n",
              "      border-top-color: var(--fill-color);\n",
              "    }\n",
              "    60% {\n",
              "      border-color: transparent;\n",
              "      border-right-color: var(--fill-color);\n",
              "    }\n",
              "    80% {\n",
              "      border-color: transparent;\n",
              "      border-right-color: var(--fill-color);\n",
              "      border-bottom-color: var(--fill-color);\n",
              "    }\n",
              "    90% {\n",
              "      border-color: transparent;\n",
              "      border-bottom-color: var(--fill-color);\n",
              "    }\n",
              "  }\n",
              "</style>\n",
              "\n",
              "  <script>\n",
              "    async function quickchart(key) {\n",
              "      const quickchartButtonEl =\n",
              "        document.querySelector('#' + key + ' button');\n",
              "      quickchartButtonEl.disabled = true;  // To prevent multiple clicks.\n",
              "      quickchartButtonEl.classList.add('colab-df-spinner');\n",
              "      try {\n",
              "        const charts = await google.colab.kernel.invokeFunction(\n",
              "            'suggestCharts', [key], {});\n",
              "      } catch (error) {\n",
              "        console.error('Error during call to suggestCharts:', error);\n",
              "      }\n",
              "      quickchartButtonEl.classList.remove('colab-df-spinner');\n",
              "      quickchartButtonEl.classList.add('colab-df-quickchart-complete');\n",
              "    }\n",
              "    (() => {\n",
              "      let quickchartButtonEl =\n",
              "        document.querySelector('#df-a518df6a-24f4-43ed-820e-38dae9e8bc11 button');\n",
              "      quickchartButtonEl.style.display =\n",
              "        google.colab.kernel.accessAllowed ? 'block' : 'none';\n",
              "    })();\n",
              "  </script>\n",
              "</div>\n",
              "    </div>\n",
              "  </div>\n"
            ],
            "application/vnd.google.colaboratory.intrinsic+json": {
              "type": "dataframe",
              "summary": "{\n  \"name\": \"submission[:5]\",\n  \"rows\": 5,\n  \"fields\": [\n    {\n      \"column\": \"id\",\n      \"properties\": {\n        \"dtype\": \"number\",\n        \"std\": 1,\n        \"min\": 15000,\n        \"max\": 15004,\n        \"num_unique_values\": 5,\n        \"samples\": [\n          15001,\n          15004,\n          15002\n        ],\n        \"semantic_type\": \"\",\n        \"description\": \"\"\n      }\n    },\n    {\n      \"column\": \"Exited\",\n      \"properties\": {\n        \"dtype\": \"number\",\n        \"std\": 0.0,\n        \"min\": 0.5,\n        \"max\": 0.5,\n        \"num_unique_values\": 1,\n        \"samples\": [\n          0.5\n        ],\n        \"semantic_type\": \"\",\n        \"description\": \"\"\n      }\n    }\n  ]\n}"
            }
          },
          "metadata": {},
          "execution_count": 57
        }
      ]
    },
    {
      "cell_type": "code",
      "source": [
        "submission['Exited'] = test['Exited'].values\n",
        "submission.head()"
      ],
      "metadata": {
        "colab": {
          "base_uri": "https://localhost:8080/",
          "height": 206
        },
        "outputId": "598f089d-be27-401d-b080-ccb64ee471ae",
        "id": "YzAVDm6k-c52"
      },
      "execution_count": 58,
      "outputs": [
        {
          "output_type": "execute_result",
          "data": {
            "text/plain": [
              "      id    Exited\n",
              "0  15000  0.000000\n",
              "1  15001  0.000000\n",
              "2  15002  0.000000\n",
              "3  15003  0.555556\n",
              "4  15004  0.111111"
            ],
            "text/html": [
              "\n",
              "  <div id=\"df-f552212d-0b28-4c9e-a15e-50ae1e8869f7\" class=\"colab-df-container\">\n",
              "    <div>\n",
              "<style scoped>\n",
              "    .dataframe tbody tr th:only-of-type {\n",
              "        vertical-align: middle;\n",
              "    }\n",
              "\n",
              "    .dataframe tbody tr th {\n",
              "        vertical-align: top;\n",
              "    }\n",
              "\n",
              "    .dataframe thead th {\n",
              "        text-align: right;\n",
              "    }\n",
              "</style>\n",
              "<table border=\"1\" class=\"dataframe\">\n",
              "  <thead>\n",
              "    <tr style=\"text-align: right;\">\n",
              "      <th></th>\n",
              "      <th>id</th>\n",
              "      <th>Exited</th>\n",
              "    </tr>\n",
              "  </thead>\n",
              "  <tbody>\n",
              "    <tr>\n",
              "      <th>0</th>\n",
              "      <td>15000</td>\n",
              "      <td>0.000000</td>\n",
              "    </tr>\n",
              "    <tr>\n",
              "      <th>1</th>\n",
              "      <td>15001</td>\n",
              "      <td>0.000000</td>\n",
              "    </tr>\n",
              "    <tr>\n",
              "      <th>2</th>\n",
              "      <td>15002</td>\n",
              "      <td>0.000000</td>\n",
              "    </tr>\n",
              "    <tr>\n",
              "      <th>3</th>\n",
              "      <td>15003</td>\n",
              "      <td>0.555556</td>\n",
              "    </tr>\n",
              "    <tr>\n",
              "      <th>4</th>\n",
              "      <td>15004</td>\n",
              "      <td>0.111111</td>\n",
              "    </tr>\n",
              "  </tbody>\n",
              "</table>\n",
              "</div>\n",
              "    <div class=\"colab-df-buttons\">\n",
              "\n",
              "  <div class=\"colab-df-container\">\n",
              "    <button class=\"colab-df-convert\" onclick=\"convertToInteractive('df-f552212d-0b28-4c9e-a15e-50ae1e8869f7')\"\n",
              "            title=\"Convert this dataframe to an interactive table.\"\n",
              "            style=\"display:none;\">\n",
              "\n",
              "  <svg xmlns=\"http://www.w3.org/2000/svg\" height=\"24px\" viewBox=\"0 -960 960 960\">\n",
              "    <path d=\"M120-120v-720h720v720H120Zm60-500h600v-160H180v160Zm220 220h160v-160H400v160Zm0 220h160v-160H400v160ZM180-400h160v-160H180v160Zm440 0h160v-160H620v160ZM180-180h160v-160H180v160Zm440 0h160v-160H620v160Z\"/>\n",
              "  </svg>\n",
              "    </button>\n",
              "\n",
              "  <style>\n",
              "    .colab-df-container {\n",
              "      display:flex;\n",
              "      gap: 12px;\n",
              "    }\n",
              "\n",
              "    .colab-df-convert {\n",
              "      background-color: #E8F0FE;\n",
              "      border: none;\n",
              "      border-radius: 50%;\n",
              "      cursor: pointer;\n",
              "      display: none;\n",
              "      fill: #1967D2;\n",
              "      height: 32px;\n",
              "      padding: 0 0 0 0;\n",
              "      width: 32px;\n",
              "    }\n",
              "\n",
              "    .colab-df-convert:hover {\n",
              "      background-color: #E2EBFA;\n",
              "      box-shadow: 0px 1px 2px rgba(60, 64, 67, 0.3), 0px 1px 3px 1px rgba(60, 64, 67, 0.15);\n",
              "      fill: #174EA6;\n",
              "    }\n",
              "\n",
              "    .colab-df-buttons div {\n",
              "      margin-bottom: 4px;\n",
              "    }\n",
              "\n",
              "    [theme=dark] .colab-df-convert {\n",
              "      background-color: #3B4455;\n",
              "      fill: #D2E3FC;\n",
              "    }\n",
              "\n",
              "    [theme=dark] .colab-df-convert:hover {\n",
              "      background-color: #434B5C;\n",
              "      box-shadow: 0px 1px 3px 1px rgba(0, 0, 0, 0.15);\n",
              "      filter: drop-shadow(0px 1px 2px rgba(0, 0, 0, 0.3));\n",
              "      fill: #FFFFFF;\n",
              "    }\n",
              "  </style>\n",
              "\n",
              "    <script>\n",
              "      const buttonEl =\n",
              "        document.querySelector('#df-f552212d-0b28-4c9e-a15e-50ae1e8869f7 button.colab-df-convert');\n",
              "      buttonEl.style.display =\n",
              "        google.colab.kernel.accessAllowed ? 'block' : 'none';\n",
              "\n",
              "      async function convertToInteractive(key) {\n",
              "        const element = document.querySelector('#df-f552212d-0b28-4c9e-a15e-50ae1e8869f7');\n",
              "        const dataTable =\n",
              "          await google.colab.kernel.invokeFunction('convertToInteractive',\n",
              "                                                    [key], {});\n",
              "        if (!dataTable) return;\n",
              "\n",
              "        const docLinkHtml = 'Like what you see? Visit the ' +\n",
              "          '<a target=\"_blank\" href=https://colab.research.google.com/notebooks/data_table.ipynb>data table notebook</a>'\n",
              "          + ' to learn more about interactive tables.';\n",
              "        element.innerHTML = '';\n",
              "        dataTable['output_type'] = 'display_data';\n",
              "        await google.colab.output.renderOutput(dataTable, element);\n",
              "        const docLink = document.createElement('div');\n",
              "        docLink.innerHTML = docLinkHtml;\n",
              "        element.appendChild(docLink);\n",
              "      }\n",
              "    </script>\n",
              "  </div>\n",
              "\n",
              "\n",
              "<div id=\"df-a860f0fe-8875-49a8-9732-2ba777cb603c\">\n",
              "  <button class=\"colab-df-quickchart\" onclick=\"quickchart('df-a860f0fe-8875-49a8-9732-2ba777cb603c')\"\n",
              "            title=\"Suggest charts\"\n",
              "            style=\"display:none;\">\n",
              "\n",
              "<svg xmlns=\"http://www.w3.org/2000/svg\" height=\"24px\"viewBox=\"0 0 24 24\"\n",
              "     width=\"24px\">\n",
              "    <g>\n",
              "        <path d=\"M19 3H5c-1.1 0-2 .9-2 2v14c0 1.1.9 2 2 2h14c1.1 0 2-.9 2-2V5c0-1.1-.9-2-2-2zM9 17H7v-7h2v7zm4 0h-2V7h2v10zm4 0h-2v-4h2v4z\"/>\n",
              "    </g>\n",
              "</svg>\n",
              "  </button>\n",
              "\n",
              "<style>\n",
              "  .colab-df-quickchart {\n",
              "      --bg-color: #E8F0FE;\n",
              "      --fill-color: #1967D2;\n",
              "      --hover-bg-color: #E2EBFA;\n",
              "      --hover-fill-color: #174EA6;\n",
              "      --disabled-fill-color: #AAA;\n",
              "      --disabled-bg-color: #DDD;\n",
              "  }\n",
              "\n",
              "  [theme=dark] .colab-df-quickchart {\n",
              "      --bg-color: #3B4455;\n",
              "      --fill-color: #D2E3FC;\n",
              "      --hover-bg-color: #434B5C;\n",
              "      --hover-fill-color: #FFFFFF;\n",
              "      --disabled-bg-color: #3B4455;\n",
              "      --disabled-fill-color: #666;\n",
              "  }\n",
              "\n",
              "  .colab-df-quickchart {\n",
              "    background-color: var(--bg-color);\n",
              "    border: none;\n",
              "    border-radius: 50%;\n",
              "    cursor: pointer;\n",
              "    display: none;\n",
              "    fill: var(--fill-color);\n",
              "    height: 32px;\n",
              "    padding: 0;\n",
              "    width: 32px;\n",
              "  }\n",
              "\n",
              "  .colab-df-quickchart:hover {\n",
              "    background-color: var(--hover-bg-color);\n",
              "    box-shadow: 0 1px 2px rgba(60, 64, 67, 0.3), 0 1px 3px 1px rgba(60, 64, 67, 0.15);\n",
              "    fill: var(--button-hover-fill-color);\n",
              "  }\n",
              "\n",
              "  .colab-df-quickchart-complete:disabled,\n",
              "  .colab-df-quickchart-complete:disabled:hover {\n",
              "    background-color: var(--disabled-bg-color);\n",
              "    fill: var(--disabled-fill-color);\n",
              "    box-shadow: none;\n",
              "  }\n",
              "\n",
              "  .colab-df-spinner {\n",
              "    border: 2px solid var(--fill-color);\n",
              "    border-color: transparent;\n",
              "    border-bottom-color: var(--fill-color);\n",
              "    animation:\n",
              "      spin 1s steps(1) infinite;\n",
              "  }\n",
              "\n",
              "  @keyframes spin {\n",
              "    0% {\n",
              "      border-color: transparent;\n",
              "      border-bottom-color: var(--fill-color);\n",
              "      border-left-color: var(--fill-color);\n",
              "    }\n",
              "    20% {\n",
              "      border-color: transparent;\n",
              "      border-left-color: var(--fill-color);\n",
              "      border-top-color: var(--fill-color);\n",
              "    }\n",
              "    30% {\n",
              "      border-color: transparent;\n",
              "      border-left-color: var(--fill-color);\n",
              "      border-top-color: var(--fill-color);\n",
              "      border-right-color: var(--fill-color);\n",
              "    }\n",
              "    40% {\n",
              "      border-color: transparent;\n",
              "      border-right-color: var(--fill-color);\n",
              "      border-top-color: var(--fill-color);\n",
              "    }\n",
              "    60% {\n",
              "      border-color: transparent;\n",
              "      border-right-color: var(--fill-color);\n",
              "    }\n",
              "    80% {\n",
              "      border-color: transparent;\n",
              "      border-right-color: var(--fill-color);\n",
              "      border-bottom-color: var(--fill-color);\n",
              "    }\n",
              "    90% {\n",
              "      border-color: transparent;\n",
              "      border-bottom-color: var(--fill-color);\n",
              "    }\n",
              "  }\n",
              "</style>\n",
              "\n",
              "  <script>\n",
              "    async function quickchart(key) {\n",
              "      const quickchartButtonEl =\n",
              "        document.querySelector('#' + key + ' button');\n",
              "      quickchartButtonEl.disabled = true;  // To prevent multiple clicks.\n",
              "      quickchartButtonEl.classList.add('colab-df-spinner');\n",
              "      try {\n",
              "        const charts = await google.colab.kernel.invokeFunction(\n",
              "            'suggestCharts', [key], {});\n",
              "      } catch (error) {\n",
              "        console.error('Error during call to suggestCharts:', error);\n",
              "      }\n",
              "      quickchartButtonEl.classList.remove('colab-df-spinner');\n",
              "      quickchartButtonEl.classList.add('colab-df-quickchart-complete');\n",
              "    }\n",
              "    (() => {\n",
              "      let quickchartButtonEl =\n",
              "        document.querySelector('#df-a860f0fe-8875-49a8-9732-2ba777cb603c button');\n",
              "      quickchartButtonEl.style.display =\n",
              "        google.colab.kernel.accessAllowed ? 'block' : 'none';\n",
              "    })();\n",
              "  </script>\n",
              "</div>\n",
              "    </div>\n",
              "  </div>\n"
            ],
            "application/vnd.google.colaboratory.intrinsic+json": {
              "type": "dataframe",
              "variable_name": "submission",
              "summary": "{\n  \"name\": \"submission\",\n  \"rows\": 10000,\n  \"fields\": [\n    {\n      \"column\": \"id\",\n      \"properties\": {\n        \"dtype\": \"number\",\n        \"std\": 2886,\n        \"min\": 15000,\n        \"max\": 24999,\n        \"num_unique_values\": 10000,\n        \"samples\": [\n          21252,\n          19684,\n          16731\n        ],\n        \"semantic_type\": \"\",\n        \"description\": \"\"\n      }\n    },\n    {\n      \"column\": \"Exited\",\n      \"properties\": {\n        \"dtype\": \"number\",\n        \"std\": 0.27575624806768334,\n        \"min\": 0.0,\n        \"max\": 1.0,\n        \"num_unique_values\": 10,\n        \"samples\": [\n          0.6666666666666666,\n          0.5555555555555556,\n          0.2222222222222222\n        ],\n        \"semantic_type\": \"\",\n        \"description\": \"\"\n      }\n    }\n  ]\n}"
            }
          },
          "metadata": {},
          "execution_count": 58
        }
      ]
    },
    {
      "cell_type": "code",
      "source": [
        "submission.to_csv('submission_knn.csv', index=False)"
      ],
      "metadata": {
        "id": "vVAnz4JL-c52"
      },
      "execution_count": 60,
      "outputs": []
    },
    {
      "cell_type": "markdown",
      "source": [
        "![submission_knn.jpg](data:image/jpeg;base64,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)"
      ],
      "metadata": {
        "id": "a8CZR2oA_FhZ"
      }
    }
  ]
}