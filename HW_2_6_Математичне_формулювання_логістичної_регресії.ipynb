{
  "nbformat": 4,
  "nbformat_minor": 0,
  "metadata": {
    "colab": {
      "provenance": []
    },
    "kernelspec": {
      "name": "python3",
      "display_name": "Python 3"
    },
    "language_info": {
      "name": "python"
    }
  },
  "cells": [
    {
      "cell_type": "code",
      "source": [
        "import numpy as np\n",
        "import math"
      ],
      "metadata": {
        "id": "f7wauB_oYDU8"
      },
      "execution_count": 2,
      "outputs": []
    },
    {
      "cell_type": "markdown",
      "source": [
        "В цьому домашньому завданні ми реалізуємо логістичну регресію на `numpy`.\n",
        "Ці завдання допоможуть вам ґрунтовно засвоїти основні концепції логістичної регресії та реалізувати їх на практиці 🔥\n",
        "\n",
        "#### Завдання 1: Реалізація функції сигмоїди\n",
        "1. З використанням `numpy` напишіть функцію `sigmoid(z)` для обчислення значення сигмоїди згідно з формулою:\n",
        "   $$\n",
        "   \\sigma(z) = \\frac{1}{1 + e^{-z}}\n",
        "   $$\n",
        "2. Використовуючи цю функцію, обчисліть значення сигмоїди для наступних даних: $ z = [-2, -1, 0, 1, 2] $. Виведіть результат обчислень.\n"
      ],
      "metadata": {
        "id": "KxRmdyv5CIZe"
      }
    },
    {
      "cell_type": "code",
      "source": [
        "def sigmoid(x):\n",
        "  #x = x.dot(x.T)\n",
        "  s = 1 / (1 + np.exp(-x))\n",
        "  return s"
      ],
      "metadata": {
        "id": "v9ilfXulL2wP"
      },
      "execution_count": 3,
      "outputs": []
    },
    {
      "cell_type": "code",
      "source": [
        "z_list = np.arange(-2, 3, 1)\n",
        "z = np.array(z_list)\n",
        "print(z), z.shape"
      ],
      "metadata": {
        "colab": {
          "base_uri": "https://localhost:8080/"
        },
        "id": "IKIUIQOnEVOm",
        "outputId": "3699f64a-be05-478f-ddf3-4792bb759fb0"
      },
      "execution_count": 4,
      "outputs": [
        {
          "output_type": "stream",
          "name": "stdout",
          "text": [
            "[-2 -1  0  1  2]\n"
          ]
        },
        {
          "output_type": "execute_result",
          "data": {
            "text/plain": [
              "(None, (5,))"
            ]
          },
          "metadata": {},
          "execution_count": 4
        }
      ]
    },
    {
      "cell_type": "code",
      "source": [
        "z.T"
      ],
      "metadata": {
        "colab": {
          "base_uri": "https://localhost:8080/"
        },
        "id": "wOrk5z6LRGgg",
        "outputId": "ea6c6b72-9822-409a-e874-fc79fd71c5a1"
      },
      "execution_count": 5,
      "outputs": [
        {
          "output_type": "execute_result",
          "data": {
            "text/plain": [
              "array([-2, -1,  0,  1,  2])"
            ]
          },
          "metadata": {},
          "execution_count": 5
        }
      ]
    },
    {
      "cell_type": "code",
      "source": [
        "np.dot(z, z.T)"
      ],
      "metadata": {
        "colab": {
          "base_uri": "https://localhost:8080/"
        },
        "id": "Wj6Tz-jxQ_m8",
        "outputId": "0b3bdb2c-e7f0-41c8-d8f9-dc8e2039a128"
      },
      "execution_count": 6,
      "outputs": [
        {
          "output_type": "execute_result",
          "data": {
            "text/plain": [
              "10"
            ]
          },
          "metadata": {},
          "execution_count": 6
        }
      ]
    },
    {
      "cell_type": "code",
      "source": [
        "sigmoid(z)"
      ],
      "metadata": {
        "colab": {
          "base_uri": "https://localhost:8080/"
        },
        "id": "B00vU7bTWOGu",
        "outputId": "db9600ef-71a0-4b62-c295-6d1a19cbe95f"
      },
      "execution_count": 7,
      "outputs": [
        {
          "output_type": "execute_result",
          "data": {
            "text/plain": [
              "array([0.11920292, 0.26894142, 0.5       , 0.73105858, 0.88079708])"
            ]
          },
          "metadata": {},
          "execution_count": 7
        }
      ]
    },
    {
      "cell_type": "markdown",
      "source": [
        "\n",
        "\n",
        "#### Завдання 2: Реалізація функції гіпотези для логістичної регресії\n",
        "1. Напишіть функцію `hypothesis(theta, X)`, яка обчислює гіпотезу для логістичної регресії, використовуючи функцію сигмоїди. Формула гіпотези:\n",
        "   $$\n",
        "   h_\\theta(x) = \\sigma(\\theta^T x) = \\frac{1}{1 + e^{-\\theta^T x}}\n",
        "   $$\n",
        "2. Використайте функцію `hypothesis` для обчислення значень гіпотези для наступних даних:\n",
        "   \n",
        "   $\\theta = [0.5, -0.5]$\n",
        "   \n",
        "   $X = \\begin{bmatrix} 1 & 2 \\\\ 1 & -1 \\\\ 1 & 0 \\\\ 1 & 1 \\end{bmatrix}$\n",
        "\n",
        "  Виведіть результат обчислень.\n"
      ],
      "metadata": {
        "id": "LVd_jCGNCR1F"
      }
    },
    {
      "cell_type": "code",
      "source": [
        "def hypothesis(theta, X):\n",
        "  x = np.dot(X, theta)\n",
        "  y = sigmoid(x)\n",
        "  return y"
      ],
      "metadata": {
        "id": "dKDHv-YtL3TA"
      },
      "execution_count": 8,
      "outputs": []
    },
    {
      "cell_type": "code",
      "source": [
        "theta = np.array([0.5, -0.5])\n",
        "X = np.array([[1, 2],\n",
        "              [1, -1],\n",
        "              [1, 0],\n",
        "              [1, 1]])"
      ],
      "metadata": {
        "id": "VYhOnYCMD776"
      },
      "execution_count": 9,
      "outputs": []
    },
    {
      "cell_type": "code",
      "source": [
        "g = np.dot(X, theta)\n",
        "g"
      ],
      "metadata": {
        "colab": {
          "base_uri": "https://localhost:8080/"
        },
        "id": "IlrDFftiTAJ0",
        "outputId": "be1cd3ad-9802-4a34-c746-8e40a07fa711"
      },
      "execution_count": 10,
      "outputs": [
        {
          "output_type": "execute_result",
          "data": {
            "text/plain": [
              "array([-0.5,  1. ,  0.5,  0. ])"
            ]
          },
          "metadata": {},
          "execution_count": 10
        }
      ]
    },
    {
      "cell_type": "code",
      "source": [
        "print(theta), theta.shape, print(X)"
      ],
      "metadata": {
        "colab": {
          "base_uri": "https://localhost:8080/"
        },
        "id": "4og8PKVRENGn",
        "outputId": "8f1a5de3-d0a2-4a03-c49e-4122e0f2340c"
      },
      "execution_count": 11,
      "outputs": [
        {
          "output_type": "stream",
          "name": "stdout",
          "text": [
            "[ 0.5 -0.5]\n",
            "[[ 1  2]\n",
            " [ 1 -1]\n",
            " [ 1  0]\n",
            " [ 1  1]]\n"
          ]
        },
        {
          "output_type": "execute_result",
          "data": {
            "text/plain": [
              "(None, (2,), None)"
            ]
          },
          "metadata": {},
          "execution_count": 11
        }
      ]
    },
    {
      "cell_type": "code",
      "source": [
        "hypothesis(theta, X)"
      ],
      "metadata": {
        "colab": {
          "base_uri": "https://localhost:8080/"
        },
        "id": "DFOCDevNKCEj",
        "outputId": "3120a428-ddbf-4840-a1de-5ec29a5beecc"
      },
      "execution_count": 12,
      "outputs": [
        {
          "output_type": "execute_result",
          "data": {
            "text/plain": [
              "array([0.37754067, 0.73105858, 0.62245933, 0.5       ])"
            ]
          },
          "metadata": {},
          "execution_count": 12
        }
      ]
    },
    {
      "cell_type": "markdown",
      "source": [
        "#### Завдання 3: Реалізація функції для підрахунку градієнтів фукнції втрат\n",
        "1. Напишіть функцію `compute_gradient(theta, X, y)`, яка обчислює градієнти функції втрат для логістичної регресії. Формула для обчислення градієнта:\n",
        "   $$\n",
        "   \\frac{\\partial L(\\theta)}{\\partial \\theta_j} = \\frac{1}{m} \\sum_{i=1}^{m} \\left[ (h_\\theta(x^{(i)}) - y^{(i)}) x_j^{(i)} \\right]\n",
        "   $$\n",
        "2. Використайте функцію `compute_gradient` для обчислення градієнтів для наступних даних:\n",
        "\n",
        "  $\\theta = [0.5, -0.5]$\n",
        "\n",
        "  $X = \\begin{bmatrix} 1 & 2 \\\\ 1 & -1 \\\\ 1 & 0 \\\\ 1 & 1 \\end{bmatrix}$\n",
        "\n",
        "  $y = [1, 0, 1, 0]$\n",
        "\n",
        "  Виведіть результат обчислень."
      ],
      "metadata": {
        "id": "MWASH4Z4ClTo"
      }
    },
    {
      "cell_type": "code",
      "source": [
        "y = np.array([1, 0, 1, 0])"
      ],
      "metadata": {
        "id": "InziYv-7hbKu"
      },
      "execution_count": 13,
      "outputs": []
    },
    {
      "cell_type": "code",
      "source": [
        "def compute_gradient(theta, X, y):\n",
        "  m = len(y)\n",
        "  grad =  np.dot((hypothesis(theta, X) - y), X) / m\n",
        "  return grad"
      ],
      "metadata": {
        "id": "0DM4xqZCL32i"
      },
      "execution_count": 14,
      "outputs": []
    },
    {
      "cell_type": "code",
      "source": [
        "compute_gradient(theta, X, y)"
      ],
      "metadata": {
        "colab": {
          "base_uri": "https://localhost:8080/"
        },
        "id": "o1LfUWfHGx3m",
        "outputId": "eaab2f8e-3e20-4a64-d8fe-d14cba63722b"
      },
      "execution_count": 15,
      "outputs": [
        {
          "output_type": "execute_result",
          "data": {
            "text/plain": [
              "array([ 0.05776464, -0.36899431])"
            ]
          },
          "metadata": {},
          "execution_count": 15
        }
      ]
    },
    {
      "cell_type": "markdown",
      "source": [
        "\n",
        "#### Завдання 4: Реалізація повного батч градієнтного спуску\n",
        "\n",
        "**Задача:**\n",
        "1. Напишіть функцію `full_batch_gradient_descent(X, y, lr=0.1, epochs=100)`, яка реалізує алгоритм Full градієнтного спуску для логістичної регресії. Використовуйте такі формули:\n",
        "   - Гіпотеза: $ h_\\theta(x) = \\sigma(\\theta^T x) $\n",
        "   - Оновлення параметрів: $ \\theta_j := \\theta_j - \\alpha \\frac{\\partial L(\\theta)}{\\partial \\theta_j} $\n",
        "2. Використайте функцію `full_batch_gradient_descent` для обчислення параметрів моделі на наступних даних:\n",
        "\n",
        "  $X = \\begin{bmatrix} 1 & 2 \\\\ 1 & -1 \\\\ 1 & 0 \\\\ 1 & 1 \\end{bmatrix}$\n",
        "\n",
        "  $y = [1, 0, 1, 0]$\n",
        "\n",
        "  Увага! Матриця $X$ вже має стовпець одиниць і передбачається, що це. - стовпець для intercept - параметра зсуву.\n",
        "\n",
        "  Виведіть результат обчислень.\n"
      ],
      "metadata": {
        "id": "nOtJEtdnC1K9"
      }
    },
    {
      "cell_type": "code",
      "source": [
        "def full_batch_gradient_descent(X, y, lr=0.1, epochs=100):\n",
        "  gradients = compute_gradient(theta, X, y)\n",
        "  alpha = lr\n",
        "  new_theta = theta - alpha * gradients\n",
        "\n",
        "  return new_theta"
      ],
      "metadata": {
        "id": "fHtUOTxXL4Yy"
      },
      "execution_count": 16,
      "outputs": []
    },
    {
      "cell_type": "code",
      "source": [
        "full_batch_gradient_descent(X, y, lr=0.1, epochs=100)"
      ],
      "metadata": {
        "colab": {
          "base_uri": "https://localhost:8080/"
        },
        "id": "6wzo6lKJntYx",
        "outputId": "84051af3-adc9-49db-b4f6-05045428bc24"
      },
      "execution_count": 17,
      "outputs": [
        {
          "output_type": "execute_result",
          "data": {
            "text/plain": [
              "array([ 0.49422354, -0.46310057])"
            ]
          },
          "metadata": {},
          "execution_count": 17
        }
      ]
    },
    {
      "cell_type": "code",
      "source": [
        "new_theta = full_batch_gradient_descent(X, y, lr=0.1, epochs=100)"
      ],
      "metadata": {
        "id": "BU2ww4pM9cgd"
      },
      "execution_count": 18,
      "outputs": []
    },
    {
      "cell_type": "markdown",
      "source": [
        "#### Завдання 5. Обчислення точності моделі\n",
        "\n",
        "1. Напишіть функцію `predict_proba(theta, X)`, яка використовує знайдені параметри $\\theta$ для обчислення ймовірностей належності поточного прикладу з даних до класу $y=1$ на основі значень $\\sigma(\\theta^T x)$.\n",
        "\n",
        "2. Напишіть функцію `predict(theta, X, threshold=0.5)`, яка обчислює клас з передбаченої імовірності належності екземпляра до класу 1 з порогом 0.5. Тобто якщо ймовірність менше 0.5, то передбачаємо клас 0, інакше клас 1.\n",
        "\n",
        "3. Напишіть функцію `accuracy(y_true, y_pred)`, яка обчислює точність моделі, визначивши частку правильно передбачених класів.\n",
        "\n",
        "  Формула метрики Accuracy:\n",
        "  $$\n",
        "  \\text{Accuracy} = \\frac{\\sum_{i=1}^{m} I(\\hat{{y}^{(i)}} = y^{(i)})}{m}\n",
        "  $$\n",
        "\n",
        "  де $\\hat{{y}^{(i)}}$ - передбачене значення класу, $I$ - індикаторна функція (яка дорівнює 1, якщо умова виконується, і 0 - якщо ні), $m$ - кількість прикладів.\n",
        "\n",
        "4. Обчисліть з використанням даних в завданні 4 $X$, $y$ та обчислених коефіцієнтах $\\theta$ та виведіть на екран:\n",
        "  - передбачені моделлю імовірності належності кожного з екземплярів в матриці `X` до класу 1\n",
        "  - класи кожного екземпляра з матриці `X`\n",
        "  - точність моделі."
      ],
      "metadata": {
        "id": "E4iZV55cE5f3"
      }
    },
    {
      "cell_type": "markdown",
      "source": [
        "5.1"
      ],
      "metadata": {
        "id": "_LIY3CWpZs9i"
      }
    },
    {
      "cell_type": "code",
      "source": [
        "def predict_proba(theta, X):\n",
        "  predict_proba = hypothesis(theta, X)\n",
        "  return predict_proba"
      ],
      "metadata": {
        "id": "QUL3hfNGioZq"
      },
      "execution_count": 19,
      "outputs": []
    },
    {
      "cell_type": "code",
      "source": [
        "predict_proba(new_theta, X)"
      ],
      "metadata": {
        "colab": {
          "base_uri": "https://localhost:8080/"
        },
        "id": "FsTFY7hV-v-r",
        "outputId": "641dbcbd-d6c1-416e-d28c-c3e5fbc2a688"
      },
      "execution_count": 20,
      "outputs": [
        {
          "output_type": "execute_result",
          "data": {
            "text/plain": [
              "array([0.3936542 , 0.72258573, 0.62110088, 0.50778011])"
            ]
          },
          "metadata": {},
          "execution_count": 20
        }
      ]
    },
    {
      "cell_type": "markdown",
      "source": [
        "5.2"
      ],
      "metadata": {
        "id": "laQVKWtZZvNx"
      }
    },
    {
      "cell_type": "code",
      "source": [
        "def predict(theta, X, treshhold=0.5):\n",
        "  return predict_proba(theta, X) >= treshhold"
      ],
      "metadata": {
        "id": "36ZoCVKK-8RA"
      },
      "execution_count": 21,
      "outputs": []
    },
    {
      "cell_type": "code",
      "source": [
        "predict(new_theta, X, treshhold=0.5)"
      ],
      "metadata": {
        "colab": {
          "base_uri": "https://localhost:8080/"
        },
        "id": "085CNvy2_HoY",
        "outputId": "daa3a908-8388-4656-a964-9f87a067a1eb"
      },
      "execution_count": 22,
      "outputs": [
        {
          "output_type": "execute_result",
          "data": {
            "text/plain": [
              "array([False,  True,  True,  True])"
            ]
          },
          "metadata": {},
          "execution_count": 22
        }
      ]
    },
    {
      "cell_type": "markdown",
      "source": [
        "5.3"
      ],
      "metadata": {
        "id": "HDnPQAz6ZxYO"
      }
    },
    {
      "cell_type": "code",
      "source": [
        "y_pred_class = predict(new_theta, X)\n",
        "y_pred_class"
      ],
      "metadata": {
        "colab": {
          "base_uri": "https://localhost:8080/"
        },
        "id": "GZBHa8PI9zXk",
        "outputId": "513e16a5-a5cb-458b-ad77-91a869c55d04"
      },
      "execution_count": 23,
      "outputs": [
        {
          "output_type": "execute_result",
          "data": {
            "text/plain": [
              "array([False,  True,  True,  True])"
            ]
          },
          "metadata": {},
          "execution_count": 23
        }
      ]
    },
    {
      "cell_type": "code",
      "source": [
        "def true(y, treshhold=0.5):\n",
        "  y_class = []\n",
        "  for i in y:\n",
        "    if i >= treshhold:\n",
        "      y_class.append(True)\n",
        "    else:\n",
        "      y_class.append(False)\n",
        "  return y_class"
      ],
      "metadata": {
        "id": "cH2zLsLSAmtS"
      },
      "execution_count": 24,
      "outputs": []
    },
    {
      "cell_type": "code",
      "source": [
        "y_true_class = true(y)\n",
        "y_true_class"
      ],
      "metadata": {
        "colab": {
          "base_uri": "https://localhost:8080/"
        },
        "id": "hXSDVlwcFxUO",
        "outputId": "320d616a-dce0-4bba-8430-179db9743f5c"
      },
      "execution_count": 25,
      "outputs": [
        {
          "output_type": "execute_result",
          "data": {
            "text/plain": [
              "[True, False, True, False]"
            ]
          },
          "metadata": {},
          "execution_count": 25
        }
      ]
    },
    {
      "cell_type": "code",
      "source": [
        "def accuracy(y_true, y_pred):\n",
        "\n",
        "  m = len(y_true)\n",
        "\n",
        "  sum = np.sum(y_true == y_pred)\n",
        "\n",
        "  accuracy = sum / m\n",
        "  return accuracy"
      ],
      "metadata": {
        "id": "vWmX5w5fGTFg"
      },
      "execution_count": 26,
      "outputs": []
    },
    {
      "cell_type": "code",
      "source": [
        "accuracy(y_true_class, y_pred_class)"
      ],
      "metadata": {
        "colab": {
          "base_uri": "https://localhost:8080/"
        },
        "id": "u5vK1dL4-8xk",
        "outputId": "0b33f1c9-3cf7-4810-878e-13a24a81e366"
      },
      "execution_count": 27,
      "outputs": [
        {
          "output_type": "execute_result",
          "data": {
            "text/plain": [
              "0.25"
            ]
          },
          "metadata": {},
          "execution_count": 27
        }
      ]
    },
    {
      "cell_type": "markdown",
      "source": [
        "5.4"
      ],
      "metadata": {
        "id": "7DUBAo6BZysO"
      }
    },
    {
      "cell_type": "code",
      "source": [
        "print('Передбачені моделлю ймовірності:', predict_proba(new_theta, X))\n",
        "print('Класи екземплярів:', y_pred_class)\n",
        "print('Точність моделі:', accuracy(y_true_class, y_pred_class))"
      ],
      "metadata": {
        "id": "U4Mqq_poHyFv",
        "colab": {
          "base_uri": "https://localhost:8080/"
        },
        "outputId": "bae93163-aa8d-41cc-8e92-7c921304c92c"
      },
      "execution_count": 28,
      "outputs": [
        {
          "output_type": "stream",
          "name": "stdout",
          "text": [
            "Передбачені моделлю ймовірності: [0.3936542  0.72258573 0.62110088 0.50778011]\n",
            "Класи екземплярів: [False  True  True  True]\n",
            "Точність моделі: 0.25\n"
          ]
        }
      ]
    }
  ]
}